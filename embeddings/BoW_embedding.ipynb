{
 "metadata": {
  "language_info": {
   "codemirror_mode": {
    "name": "ipython",
    "version": 3
   },
   "file_extension": ".py",
   "mimetype": "text/x-python",
   "name": "python",
   "nbconvert_exporter": "python",
   "pygments_lexer": "ipython3",
   "version": "3.8.8"
  },
  "orig_nbformat": 2,
  "kernelspec": {
   "name": "python388jvsc74a57bd0336bdb9e57cd699596144781d3896191cc7f291091104ee557bbaee3fcafe96c",
   "display_name": "Python 3.8.8 64-bit ('ai': conda)"
  }
 },
 "nbformat": 4,
 "nbformat_minor": 2,
 "cells": [
  {
   "cell_type": "code",
   "execution_count": 1,
   "metadata": {},
   "outputs": [],
   "source": [
    "from sklearn.feature_extraction.text import CountVectorizer\n",
    "import pandas as pd\n",
    "import pickle"
   ]
  },
  {
   "cell_type": "code",
   "execution_count": 2,
   "metadata": {},
   "outputs": [],
   "source": [
    "trn = pd.read_csv('../preprocessed_data/trn_title.csv', delimiter = ',', names=['title','label'])\n",
    "val = pd.read_csv('../preprocessed_data/val_title.csv', delimiter = ',', names=['title','label'])\n",
    "tst = pd.read_csv('../preprocessed_data/tst_title.csv', delimiter = ',', names=['title','label'])"
   ]
  },
  {
   "cell_type": "code",
   "execution_count": 3,
   "metadata": {},
   "outputs": [
    {
     "output_type": "stream",
     "name": "stdout",
     "text": [
      "Vocab size = 9410\nSize of training data = (30986, 9410)\nSize of test data = (4428, 9410)\n"
     ]
    }
   ],
   "source": [
    "vectorizer = CountVectorizer(lowercase=False, min_df=1, max_df=1.0, ngram_range=(1,1))\n",
    "x_train_vector = vectorizer.fit_transform(trn.title)\n",
    "x_test_vector = vectorizer.transform(tst.title)\n",
    "\n",
    "# Data information\n",
    "vocab = vectorizer.vocabulary_\n",
    "print(\"Vocab size = {}\".format(len(vocab)))\n",
    "print(\"Size of training data = {}\".format(x_train_vector.shape))\n",
    "print(\"Size of test data = {}\".format(x_test_vector.shape))"
   ]
  },
  {
   "cell_type": "code",
   "execution_count": 4,
   "metadata": {},
   "outputs": [],
   "source": [
    "f = open(\"../preprocessed_embeddings/bow_trn.pkl\",\"wb\")\n",
    "pickle.dump(x_train_vector,f)\n",
    "f.close()\n",
    "\n",
    "f = open(\"../preprocessed_embeddings/bow_tst.pkl\",\"wb\")\n",
    "pickle.dump(x_test_vector,f)\n",
    "f.close()"
   ]
  },
  {
   "cell_type": "code",
   "execution_count": null,
   "metadata": {},
   "outputs": [],
   "source": []
  }
 ]
}