{
 "metadata": {
  "language_info": {
   "codemirror_mode": {
    "name": "ipython",
    "version": 3
   },
   "file_extension": ".py",
   "mimetype": "text/x-python",
   "name": "python",
   "nbconvert_exporter": "python",
   "pygments_lexer": "ipython3",
   "version": "3.8.8"
  },
  "orig_nbformat": 2,
  "kernelspec": {
   "name": "python388jvsc74a57bd0336bdb9e57cd699596144781d3896191cc7f291091104ee557bbaee3fcafe96c",
   "display_name": "Python 3.8.8 64-bit ('ai': conda)"
  }
 },
 "nbformat": 4,
 "nbformat_minor": 2,
 "cells": [
  {
   "cell_type": "code",
   "execution_count": 26,
   "metadata": {},
   "outputs": [],
   "source": [
    "!pip install allennlp;\n",
    "!pip install googledrivedownloader;"
   ]
  },
  {
   "cell_type": "code",
   "execution_count": 1,
   "metadata": {},
   "outputs": [],
   "source": [
    "import pandas as pd\n",
    "import numpy as np\n",
    "import torch\n",
    "import math\n",
    "import pickle\n",
    "import urllib.request\n",
    "from tqdm import tqdm\n",
    "from os.path import isfile\n",
    "\n",
    "from allennlp.modules.token_embedders import ElmoTokenEmbedder\n",
    "from allennlp.modules.elmo import batch_to_ids\n",
    "\n",
    "from google_drive_downloader import GoogleDriveDownloader as gdd"
   ]
  },
  {
   "cell_type": "code",
   "execution_count": 2,
   "metadata": {},
   "outputs": [],
   "source": [
    "device = 'cuda' if torch.cuda.is_available() else 'cpu'"
   ]
  },
  {
   "source": [
    "# Load ELMo"
   ],
   "cell_type": "markdown",
   "metadata": {}
  },
  {
   "cell_type": "code",
   "execution_count": 3,
   "metadata": {},
   "outputs": [],
   "source": [
    "## Download weights and config file\n",
    "if not isfile(\"../downloads/elmo_2x4096_512_2048cnn_2xhighway_options.json\"):\n",
    "    url_options_file = \"https://allennlp.s3.amazonaws.com/models/elmo/2x4096_512_2048cnn_2xhighway/elmo_2x4096_512_2048cnn_2xhighway_options.json\"\n",
    "    filename, headers = urllib.request.urlretrieve(url_options_file, filename=\"../downloads/elmo_2x4096_512_2048cnn_2xhighway_options.json\")\n",
    "\n",
    "if not isfile(\"../downloads/elmo_2x4096_512_2048cnn_2xhighway_weights.hdf5\"):\n",
    "    url_weight_file = \"https://allennlp.s3.amazonaws.com/models/elmo/2x4096_512_2048cnn_2xhighway/elmo_2x4096_512_2048cnn_2xhighway_weights.hdf5\"\n",
    "    filename, headers = urllib.request.urlretrieve(url_weight_file, filename=\"../downloads/elmo_2x4096_512_2048cnn_2xhighway_weights.hdf5\")"
   ]
  },
  {
   "cell_type": "code",
   "execution_count": 4,
   "metadata": {},
   "outputs": [],
   "source": [
    "options_file = '../downloads/elmo_2x4096_512_2048cnn_2xhighway_options.json'\n",
    "weight_file = '../downloads/elmo_2x4096_512_2048cnn_2xhighway_weights.hdf5'"
   ]
  },
  {
   "cell_type": "code",
   "execution_count": 5,
   "metadata": {},
   "outputs": [],
   "source": [
    "## Load ELMo Token Embedder\n",
    "elmo_embedder = ElmoTokenEmbedder(options_file, weight_file=weight_file, dropout=0).to(device)"
   ]
  },
  {
   "source": [
    "# Common functions"
   ],
   "cell_type": "markdown",
   "metadata": {}
  },
  {
   "cell_type": "code",
   "execution_count": 6,
   "metadata": {},
   "outputs": [],
   "source": [
    "def get_elmo_embedding(dataiter, batch_size=128, device=device):\n",
    "    embeddings = list()\n",
    "    labels = list()\n",
    "    with tqdm(total=len(dataiter)) as pbar:\n",
    "        for batch, label in dataiter:\n",
    "            character_ids = batch_to_ids(batch)\n",
    "            batch_embedding = elmo_embedder(character_ids.to(device))\n",
    "            embeddings.extend(batch_embedding.cpu().detach().numpy())\n",
    "            labels.extend(label)\n",
    "            pbar.update(1)\n",
    "\n",
    "    return np.array(embeddings, dtype=object), labels"
   ]
  },
  {
   "cell_type": "code",
   "execution_count": 7,
   "metadata": {},
   "outputs": [],
   "source": [
    "class FakeNews():\n",
    "    def __init__(self, split):\n",
    "        if split == 'trn-title':\n",
    "            data = pd.read_csv('../preprocessed_data/trn_title.csv', delimiter = ',', names=['title','label'])\n",
    "            self.data = [x.split() for x in list(data.title)]\n",
    "        elif split == 'trn-text':\n",
    "            data = pd.read_csv('../preprocessed_data/trn_text.csv', delimiter = ',', names=['text','label'])\n",
    "            self.data = [x.split() for x in list(data.text)]\n",
    "        elif split == 'val-title':\n",
    "            data = pd.read_csv('../preprocessed_data/val_title.csv', delimiter = ',', names=['title','label'])\n",
    "            self.data = [x.split() for x in list(data.title)]\n",
    "        elif split == 'val-text':\n",
    "            data = pd.read_csv('../preprocessed_data/val_text.csv', delimiter = ',', names=['text','label'])\n",
    "            self.data = [x.split() for x in list(data.text)]\n",
    "        elif split == 'tst-title':\n",
    "            data = pd.read_csv('../preprocessed_data/tst_title.csv', delimiter = ',', names=['title','label'])\n",
    "            self.data = [x.split() for x in list(data.title)]\n",
    "        elif split == 'tst-text':\n",
    "            data = pd.read_csv('../preprocessed_data/tst_text.csv', delimiter = ',', names=['text','label'])\n",
    "            self.data = [x.split() for x in list(data.text)]\n",
    "        else:\n",
    "            raise ValueError(\"Unrecognized dataset type. Try 'trn-title', 'trn-text', 'tst-title' or 'tst-text'\")\n",
    "        \n",
    "        self.label = data.label\n",
    "        self.n_sentences = len(data)\n",
    "\n",
    "    def __getitem__(self, index):\n",
    "        return self.data[index] , self.label[index]\n",
    "\n",
    "    def __len__(self):\n",
    "        return self.n_sentences"
   ]
  },
  {
   "cell_type": "code",
   "execution_count": 8,
   "metadata": {},
   "outputs": [],
   "source": [
    "class BucketIterator():\n",
    "    def __init__(self, dataset, batch_size=8):\n",
    "        self.dataset = dataset[:][0]\n",
    "        self.labels = dataset[:][1]\n",
    "        self.dataset_len = len(dataset)\n",
    "        self.batch_size = batch_size\n",
    "        self.length = math.ceil( len(dataset) / batch_size )\n",
    "\n",
    "        indices = [(i, len(s)) for i, s in enumerate(self.dataset)]\n",
    "        pooled_indices = []\n",
    "        pooled_indices.extend(sorted(indices, key=lambda x: x[1]))\n",
    "\n",
    "        self.pooled_indices = [x[0] for x in pooled_indices]\n",
    "        self.pointer = 0\n",
    "\n",
    "    def __len__(self):\n",
    "        return self.length\n",
    "\n",
    "    def __iter__(self):\n",
    "        self.pointer = 0\n",
    "        return self\n",
    "\n",
    "    def __next__(self):\n",
    "        if self.pointer > self.dataset_len:\n",
    "            self.pointer = 0\n",
    "            raise StopIteration\n",
    "        else:\n",
    "            start = self.pointer\n",
    "            end = self.pointer + self.batch_size\n",
    "            self.pointer += self.batch_size\n",
    "        \n",
    "            return [ self.dataset[i] for i in self.pooled_indices[start:end] ], [ self.labels[i] for i in self.pooled_indices[start:end] ]"
   ]
  },
  {
   "source": [
    "# Titles Embedding"
   ],
   "cell_type": "markdown",
   "metadata": {}
  },
  {
   "cell_type": "code",
   "execution_count": 1759,
   "metadata": {},
   "outputs": [],
   "source": [
    "### Load titles\n",
    "trn_dataset = FakeNews('trn-title')\n",
    "trn_title_iterator = BucketIterator(trn_dataset,128)\n",
    "\n",
    "val_dataset = FakeNews('val-title')\n",
    "val_title_iterator = BucketIterator(val_dataset,128)\n",
    "\n",
    "tst_dataset = FakeNews('tst-title')\n",
    "tst_title_iterator = BucketIterator(tst_dataset,128)"
   ]
  },
  {
   "cell_type": "code",
   "execution_count": 49,
   "metadata": {},
   "outputs": [
    {
     "output_type": "stream",
     "name": "stderr",
     "text": [
      "100%|██████████| 243/243 [03:16<00:00,  1.24it/s]\n"
     ]
    }
   ],
   "source": [
    "trn_embedings, trn_labels = get_elmo_embedding(trn_title_iterator, 128, device)\n",
    "\n",
    "f = open(\"../preprocessed_embeddings/elmo_trn_title.pkl\",\"wb\")\n",
    "pickle.dump(trn_embedings,f)\n",
    "f.close()\n",
    "\n",
    "f = open(\"../preprocessed_embeddings/elmo_trn_title_labels.pkl\",\"wb\")\n",
    "pickle.dump(trn_labels,f)\n",
    "f.close()"
   ]
  },
  {
   "cell_type": "code",
   "execution_count": 15,
   "metadata": {},
   "outputs": [
    {
     "output_type": "stream",
     "name": "stderr",
     "text": [
      "100%|██████████| 70/70 [00:53<00:00,  1.30it/s]\n"
     ]
    }
   ],
   "source": [
    "val_embedings, val_labels = get_elmo_embedding(val_title_iterator, 128, device)\n",
    "\n",
    "f = open(\"../preprocessed_embeddings/elmo_val_title.pkl\",\"wb\")\n",
    "pickle.dump(val_embedings,f)\n",
    "f.close()\n",
    "\n",
    "f = open(\"../preprocessed_embeddings/elmo_val_title_labels.pkl\",\"wb\")\n",
    "pickle.dump(val_labels,f)\n",
    "f.close()"
   ]
  },
  {
   "cell_type": "code",
   "execution_count": 48,
   "metadata": {},
   "outputs": [
    {
     "output_type": "stream",
     "name": "stderr",
     "text": [
      "100%|██████████| 35/35 [00:28<00:00,  1.22it/s]\n"
     ]
    }
   ],
   "source": [
    "tst_embedings, tst_labels = get_elmo_embedding(tst_title_iterator, 128, device)\n",
    "\n",
    "f = open(\"../preprocessed_embeddings/elmo_tst_title.pkl\",\"wb\")\n",
    "pickle.dump(tst_embedings,f)\n",
    "f.close()\n",
    "\n",
    "f = open(\"../preprocessed_embeddings/elmo_tst_title_labels.pkl\",\"wb\")\n",
    "pickle.dump(tst_labels,f)\n",
    "f.close()"
   ]
  },
  {
   "source": [
    "# Texts Embedding"
   ],
   "cell_type": "markdown",
   "metadata": {}
  },
  {
   "cell_type": "code",
   "execution_count": null,
   "metadata": {},
   "outputs": [],
   "source": [
    "### Load texts\n",
    "trn_dataset = FakeNews('trn-text')\n",
    "trn_text_iterator = BucketIterator(trn_dataset,8)\n",
    "\n",
    "val_dataset = FakeNews('val-title')\n",
    "val_title_iterator = BucketIterator(val_dataset,8)\n",
    "\n",
    "tst_dataset = FakeNews('tst-title')\n",
    "tst_title_iterator = BucketIterator(tst_dataset,8)"
   ]
  },
  {
   "source": [
    "## Explore the dataset"
   ],
   "cell_type": "markdown",
   "metadata": {}
  },
  {
   "cell_type": "code",
   "execution_count": 1722,
   "metadata": {},
   "outputs": [
    {
     "output_type": "stream",
     "name": "stdout",
     "text": [
      "Sentence #29277 has the highest amount of tokens: 8375\n"
     ]
    }
   ],
   "source": [
    "max_length = 0\n",
    "sentence_id = 0\n",
    "for i in range(len(trn_dataset)):\n",
    "    if len(trn_dataset[i][0]) > max_length:\n",
    "        max_length = len(trn_dataset[i][0])\n",
    "        sentence_id = i\n",
    "print(f\"Sentence #{sentence_id} has the highest amount of tokens: {max_length}\")"
   ]
  },
  {
   "cell_type": "code",
   "execution_count": 1726,
   "metadata": {},
   "outputs": [
    {
     "output_type": "stream",
     "name": "stdout",
     "text": [
      "The length of the dataset is: 30986\n"
     ]
    }
   ],
   "source": [
    "print(f\"The length of the dataset is: {len(trn_dataset)}\")"
   ]
  },
  {
   "cell_type": "code",
   "execution_count": 1771,
   "metadata": {},
   "outputs": [
    {
     "output_type": "stream",
     "name": "stdout",
     "text": [
      "There are #27120 sentences with more than 100 tokens. One example is sentence #30973\n"
     ]
    }
   ],
   "source": [
    "count = 0\n",
    "threshold = 100\n",
    "saved_idx = 0\n",
    "for i in range(len(trn_dataset)):\n",
    "    if len(trn_dataset[i][0]) > threshold:\n",
    "        count += 1\n",
    "        if len(trn_dataset[i][0]) < threshold + 10:\n",
    "            saved_idx = i\n",
    "print(f\"There are #{count} sentences with more than {threshold} tokens. One example is sentence #{saved_idx}\")"
   ]
  },
  {
   "source": [
    "## Create the embeddings"
   ],
   "cell_type": "markdown",
   "metadata": {}
  },
  {
   "cell_type": "code",
   "execution_count": null,
   "metadata": {},
   "outputs": [],
   "source": []
  },
  {
   "source": [
    "# Download preprocessed embeddings"
   ],
   "cell_type": "markdown",
   "metadata": {}
  },
  {
   "cell_type": "code",
   "execution_count": 15,
   "metadata": {},
   "outputs": [
    {
     "output_type": "stream",
     "name": "stdout",
     "text": [
      "Downloading 1esvWZDtDMe-TUG7sR_U5N9QytebN4Cjy into ./preprocessed_embeddings/asd.zip... Done.\n",
      "Unzipping...Done.\n"
     ]
    }
   ],
   "source": [
    "## Download pre-processed embeddings\n",
    "gdd.download_file_from_google_drive(file_id='1esvWZDtDMe-TUG7sR_U5N9QytebN4Cjy', dest_path='../preprocessed_embeddings/elmo_embeddings.zip', unzip=True)\n",
    "!rm ./preprocessed_embeddings/elmo_embeddings.zip"
   ]
  }
 ]
}