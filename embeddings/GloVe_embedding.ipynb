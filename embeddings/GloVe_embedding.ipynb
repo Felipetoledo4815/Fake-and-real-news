{
 "cells": [
  {
   "cell_type": "code",
   "execution_count": 1,
   "metadata": {},
   "outputs": [],
   "source": [
    "import numpy as np\n",
    "import pandas as pd\n",
    "from tqdm import tqdm\n",
    "from sklearn.linear_model import LogisticRegression\n",
    "from sklearn.model_selection import cross_val_score\n",
    "from nltk import word_tokenize\n",
    "import pickle"
   ]
  },
  {
   "cell_type": "code",
   "execution_count": 2,
   "metadata": {},
   "outputs": [
    {
     "name": "stderr",
     "output_type": "stream",
     "text": [
      "2196017it [03:30, 10454.21it/s]\n"
     ]
    }
   ],
   "source": [
    "embeddings_idx={}\n",
    "f = open('glove.840B.300d.txt', encoding=\"utf8\")\n",
    "for line in tqdm(f):\n",
    "    values = line.split()\n",
    "    word = values[0]\n",
    "    try:\n",
    "        coefs = np.asarray(values[1:], dtype='float32')\n",
    "        embeddings_idx[word] = coefs\n",
    "    except ValueError:\n",
    "        pass\n",
    "f.close()"
   ]
  },
  {
   "cell_type": "code",
   "execution_count": 3,
   "metadata": {},
   "outputs": [
    {
     "data": {
      "text/plain": [
       "dict"
      ]
     },
     "execution_count": 3,
     "metadata": {},
     "output_type": "execute_result"
    }
   ],
   "source": [
    "type(embeddings_idx)"
   ]
  },
  {
   "cell_type": "markdown",
   "metadata": {},
   "source": [
    "###### load the data"
   ]
  },
  {
   "cell_type": "code",
   "execution_count": 4,
   "metadata": {},
   "outputs": [],
   "source": [
    "trn = pd.read_csv('../preprocessed_data/trn_title.csv', delimiter = ',', names=['title','label'])\n",
    "val = pd.read_csv('../preprocessed_data/val_title.csv', delimiter = ',', names=['title','label'])\n",
    "tst = pd.read_csv('../preprocessed_data/tst_title.csv', delimiter = ',', names=['title','label'])"
   ]
  },
  {
   "cell_type": "code",
   "execution_count": 5,
   "metadata": {},
   "outputs": [
    {
     "name": "stdout",
     "output_type": "stream",
     "text": [
      "(30986, 2)\n",
      "(8853, 2)\n",
      "(4428, 2)\n"
     ]
    }
   ],
   "source": [
    "print(trn.shape)\n",
    "print(val.shape)\n",
    "print(tst.shape)"
   ]
  },
  {
   "cell_type": "code",
   "execution_count": 6,
   "metadata": {},
   "outputs": [
    {
     "name": "stdout",
     "output_type": "stream",
     "text": [
      "Trump Is LITERALLY Polling At <num> With Black People IMAGE VIDEO\n"
     ]
    }
   ],
   "source": [
    "print(trn.values[10][0])"
   ]
  },
  {
   "cell_type": "code",
   "execution_count": 7,
   "metadata": {},
   "outputs": [],
   "source": [
    "def tokenize(sentence):\n",
    "    # tokenize sentence\n",
    "    return sentence.strip().split()"
   ]
  },
  {
   "cell_type": "code",
   "execution_count": 8,
   "metadata": {},
   "outputs": [
    {
     "name": "stdout",
     "output_type": "stream",
     "text": [
      "['Trump', 'Is', 'LITERALLY', 'Polling', 'At', '<num>', 'With', 'Black', 'People', 'IMAGE', 'VIDEO']\n"
     ]
    }
   ],
   "source": [
    "print(tokenize(trn.values[10][0]))"
   ]
  },
  {
   "cell_type": "code",
   "execution_count": 9,
   "metadata": {},
   "outputs": [],
   "source": [
    "def sentenceToVector(s):\n",
    "    # convert sentence to glove vector\n",
    "    s = tokenize(s)\n",
    "    M = []\n",
    "    for word in s:\n",
    "        try:\n",
    "            M.append(embeddings_idx[word])\n",
    "        except:\n",
    "            M.append(embeddings_idx['unk'])\n",
    "    M = np.array(M)\n",
    "    v = M.sum(axis=0)\n",
    "    if type(v) != np.ndarray:\n",
    "        return np.zeros(300)\n",
    "#     return v/np.sqrt((v ** 2).sum())\n",
    "    return v"
   ]
  },
  {
   "cell_type": "code",
   "execution_count": 10,
   "metadata": {},
   "outputs": [
    {
     "name": "stdout",
     "output_type": "stream",
     "text": [
      "(300,)\n"
     ]
    }
   ],
   "source": [
    "print(sentenceToVector(trn.values[10][0]).shape)"
   ]
  },
  {
   "cell_type": "code",
   "execution_count": 11,
   "metadata": {
    "scrolled": true
   },
   "outputs": [
    {
     "name": "stderr",
     "output_type": "stream",
     "text": [
      "100%|██████████| 30986/30986 [00:00<00:00, 41548.91it/s]\n",
      "100%|██████████| 8853/8853 [00:00<00:00, 44139.49it/s]\n",
      "100%|██████████| 4428/4428 [00:00<00:00, 44055.68it/s]\n"
     ]
    }
   ],
   "source": [
    "# create all embeddings\n",
    "# fit embeddings to labels\n",
    "trn_embeddings = [sentenceToVector(x[0]) for x in tqdm(trn.values)]\n",
    "val_embeddings = [sentenceToVector(x[0]) for x in tqdm(val.values)]\n",
    "tst_embeddings = [sentenceToVector(x[0]) for x in tqdm(tst.values)]\n",
    "\n",
    "f = open(\"../preprocessed_embeddings/GloVe_trn_title.pkl\", \"wb\")\n",
    "pickle.dump(trn_embeddings, f)\n",
    "f.close()\n",
    "\n",
    "f = open(\"../preprocessed_embeddings/GloVe_tst_title.pkl\", \"wb\")\n",
    "pickle.dump(tst_embeddings, f)\n",
    "f.close()"
   ]
  }
 ],
 "metadata": {
  "kernelspec": {
   "display_name": "Python 3",
   "language": "python",
   "name": "python3"
  },
  "language_info": {
   "codemirror_mode": {
    "name": "ipython",
    "version": 3
   },
   "file_extension": ".py",
   "mimetype": "text/x-python",
   "name": "python",
   "nbconvert_exporter": "python",
   "pygments_lexer": "ipython3",
   "version": "3.8.5"
  }
 },
 "nbformat": 4,
 "nbformat_minor": 4
}
