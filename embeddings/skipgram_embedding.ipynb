{
  "nbformat": 4,
  "nbformat_minor": 0,
  "metadata": {
    "colab": {
      "name": "skipgram_embedding.ipynb",
      "provenance": []
    },
    "kernelspec": {
      "name": "python3",
      "display_name": "Python 3",
      "language": "python"
    },
    "language_info": {
      "name": "python",
      "version": "3.8.8"
    }
  },
  "cells": [
    {
      "cell_type": "code",
      "execution_count": null,
      "metadata": {},
      "outputs": [],
      "source": [
        "!pip install googledrivedownloader;\n",
        "!pip install fasttext"
      ]
    },
    {
      "cell_type": "code",
      "metadata": {
        "id": "08_S3VGgs7u-",
        "colab": {
          "base_uri": "https://localhost:8080/"
        },
        "outputId": "ab8b4c46-8282-4a6a-a7a7-825baf5697c2"
      },
      "source": [
        "import fasttext\n",
        "import numpy as np\n",
        "import pandas as pd\n",
        "import pickle\n",
        "import os\n",
        "\n",
        "from google_drive_downloader import GoogleDriveDownloader as gdd\n",
        "from matplotlib import pyplot as plt"
      ],
      "execution_count": 2,
      "outputs": []
    },
    {
      "cell_type": "code",
      "metadata": {
        "colab": {
          "base_uri": "https://localhost:8080/"
        },
        "id": "q9_wpXWcrpxa",
        "outputId": "e5ca7d48-d91e-40fb-c51c-69f48418a72f"
      },
      "source": [
        "def Skipgram(filtered_sentences, ws=3, dim=50):\n",
        "    model = fasttext.train_unsupervised(filtered_sentences, model='skipgram', ws=ws, dim=dim, neg=5)\n",
        "    vocab_dict = {} \n",
        "    vocab_dict = {word:idx for (idx, word) in enumerate(model.get_words())}\n",
        "    return model"
      ],
      "execution_count": 3,
      "outputs": []
    },
    {
      "cell_type": "code",
      "execution_count": 4,
      "metadata": {},
      "outputs": [],
      "source": [
        "### Titles\n",
        "title_trn = pd.read_csv('../preprocessed_data/trn_title.csv', delimiter = ',', names=['title','label'])\n",
        "title_tst = pd.read_csv('../preprocessed_data/tst_title.csv', delimiter = ',', names=['title','label'])"
      ]
    },
    {
      "cell_type": "code",
      "metadata": {
        "id": "xMs72p-1s6Me"
      },
      "source": [
        "with open('../preprocessed_data/skipgram_train_lines.txt', 'w') as f:\n",
        "    for title in list(title_trn['title']):\n",
        "        for w in title.split(): \n",
        "          f.write(\"%s \" % w)\n",
        "        f.write(\"\\n\")\n",
        "\n",
        "with open('../preprocessed_data/skipgram_test_lines.txt', 'w') as f:\n",
        "    for title in list(title_tst['title']):\n",
        "        for w in title.split(): \n",
        "          f.write(\"%s \" % w)\n",
        "        f.write(\"\\n\")"
      ],
      "execution_count": 5,
      "outputs": []
    },
    {
      "cell_type": "code",
      "execution_count": 6,
      "metadata": {},
      "outputs": [],
      "source": [
        "skipgram_model = Skipgram('../preprocessed_data/skipgram_train_lines.txt')"
      ]
    },
    {
      "cell_type": "code",
      "metadata": {
        "id": "0WJkDvqyXehL"
      },
      "source": [
        "f1 = open(\"../preprocessed_data/skipgram_train_lines.txt\", \"r\")\n",
        "f2 = open(\"../preprocessed_data/skipgram_test_lines.txt\", \"r\")\n",
        "\n",
        "trn_embeddings = []\n",
        "tst_embeddings = [] \n",
        "\n",
        "for line in f1:\n",
        "    line_stripped = line.strip()  \n",
        "    trn_embeddings.append(skipgram_model.get_sentence_vector(line_stripped))\n",
        "f1.close()\n",
        "\n",
        "\n",
        "for line in f2:\n",
        "    line_stripped = line.strip()\n",
        "    tst_embeddings.append(skipgram_model.get_sentence_vector(line_stripped))\n",
        "f2.close()\n",
        "\n",
        "if not os.path.exists(\"../preprocessed_embeddings/\"):\n",
        "    !mkdir ../preprocessed_embeddings\n",
        "\n",
        "f = open(\"../preprocessed_embeddings/skipgram_train_embeddings.pkl\",\"wb\")\n",
        "pickle.dump(trn_embeddings,f)\n",
        "f.close()\n",
        "\n",
        "f = open(\"../preprocessed_embeddings/skipgram_test_embeddings.pkl\",\"wb\")\n",
        "pickle.dump(tst_embeddings,f)\n",
        "f.close()"
      ],
      "execution_count": 17,
      "outputs": []
    },
    {
      "cell_type": "code",
      "execution_count": null,
      "metadata": {},
      "outputs": [],
      "source": []
    }
  ]
}