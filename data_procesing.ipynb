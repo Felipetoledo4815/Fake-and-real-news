{
  "nbformat": 4,
  "nbformat_minor": 0,
  "metadata": {
    "kernelspec": {
      "display_name": "Python 3",
      "language": "python",
      "name": "python3"
    },
    "language_info": {
      "codemirror_mode": {
        "name": "ipython",
        "version": 3
      },
      "file_extension": ".py",
      "mimetype": "text/x-python",
      "name": "python",
      "nbconvert_exporter": "python",
      "pygments_lexer": "ipython3",
      "version": "3.8.8"
    },
    "colab": {
      "name": "neural_classifier.ipynb",
      "provenance": [],
      "collapsed_sections": []
    }
  },
  "cells": [
    {
      "source": [
        "!pip install googledrivedownloader;"
      ],
      "cell_type": "code",
      "metadata": {
        "id": "qSPIBRNuxYin"
      },
      "execution_count": 27,
      "outputs": [
        {
          "output_type": "stream",
          "name": "stdout",
          "text": [
            "Requirement already satisfied: googledrivedownloader in /Data/miniconda3/envs/ai/lib/python3.8/site-packages (0.4)\n"
          ]
        }
      ]
    },
    {
      "cell_type": "code",
      "metadata": {
        "id": "ULzaUL0_xYiq"
      },
      "source": [
        "import numpy as np\n",
        "import pandas as pd\n",
        "from matplotlib import pyplot as plt\n",
        "from google_drive_downloader import GoogleDriveDownloader as gdd"
      ],
      "execution_count": 28,
      "outputs": []
    },
    {
      "source": [
        "# Common functions"
      ],
      "cell_type": "markdown",
      "metadata": {}
    },
    {
      "cell_type": "code",
      "execution_count": 2,
      "metadata": {},
      "outputs": [],
      "source": [
        "def train_validate_test_split(df, train_percent=.6, validate_percent=.2, seed=None):\n",
        "    np.random.seed(seed)\n",
        "    perm = np.random.permutation(df.index)\n",
        "    m = len(df.index)\n",
        "    train_end = int(train_percent * m)\n",
        "    validate_end = int(validate_percent * m) + train_end\n",
        "    train = df.iloc[perm[:train_end]]\n",
        "    validate = df.iloc[perm[train_end:validate_end]]\n",
        "    test = df.iloc[perm[validate_end:]]\n",
        "    return train, validate, test"
      ]
    },
    {
      "source": [
        "# Procesing data"
      ],
      "cell_type": "markdown",
      "metadata": {}
    },
    {
      "cell_type": "code",
      "execution_count": 5,
      "metadata": {},
      "outputs": [],
      "source": [
        "fake = pd.read_csv('Fake.csv', delimiter = ',')\n",
        "fake['label']= 0"
      ]
    },
    {
      "cell_type": "code",
      "execution_count": 6,
      "metadata": {},
      "outputs": [
        {
          "output_type": "stream",
          "name": "stdout",
          "text": [
            "# fake news = 23481\n\n# unique texts = 23481\n# of empty texts = 630\nTotal texts = 22851\n\n# unique titles = 23481\n# of empty titles = 0\nTotal texts = 23481\n"
          ]
        }
      ],
      "source": [
        "print(\"# fake news = \" + str(len(fake)) + '\\n')\n",
        "\n",
        "unique_texts = fake['text'].value_counts().sum()\n",
        "empty_texts = fake[fake['text'] == ' '].append(fake[fake['text'] == '  ']).value_counts().sum()\n",
        "print(\"# unique texts = \" + str(unique_texts))\n",
        "print(\"# of empty texts = \" + str(empty_texts))\n",
        "print(\"Total texts = \" + str(unique_texts - empty_texts) + '\\n')\n",
        "\n",
        "unique_titles = fake['title'].value_counts().sum()\n",
        "empty_titles = fake[fake['title'] == ' '].append(fake[fake['title'] == '  ']).value_counts().sum()\n",
        "print(\"# unique titles = \" + str(unique_titles))\n",
        "print(\"# of empty titles = \" + str(empty_titles))\n",
        "print(\"Total texts = \" + str(unique_titles - empty_titles))"
      ]
    },
    {
      "cell_type": "code",
      "execution_count": 7,
      "metadata": {},
      "outputs": [],
      "source": [
        "fake = fake.drop(columns=['subject','date'])\n",
        "fake_trn, fake_val, fake_tst = train_validate_test_split(fake, train_percent=0.7, validate_percent=0.2, seed=1)"
      ]
    },
    {
      "cell_type": "code",
      "execution_count": 11,
      "metadata": {},
      "outputs": [],
      "source": [
        "true = pd.read_csv('True.csv', delimiter = ',')\n",
        "true['label']= 1"
      ]
    },
    {
      "cell_type": "code",
      "execution_count": 12,
      "metadata": {},
      "outputs": [
        {
          "output_type": "stream",
          "name": "stdout",
          "text": [
            "# true news = 21417\n\n# unique texts = 21417\n# of empty texts = 1\nTotal texts = 21416\n\n# unique titles = 21417\n# of empty titles = 0\nTotal texts = 21417\n"
          ]
        }
      ],
      "source": [
        "print(\"# true news = \" + str(len(true)) + '\\n')\n",
        "\n",
        "unique_texts = true['text'].value_counts().sum()\n",
        "empty_texts = true[true['text'] == ' '].append(true[true['text'] == '  ']).value_counts().sum()\n",
        "print(\"# unique texts = \" + str(unique_texts))\n",
        "print(\"# of empty texts = \" + str(empty_texts))\n",
        "print(\"Total texts = \" + str(unique_texts - empty_texts) + '\\n')\n",
        "\n",
        "unique_titles = true['title'].value_counts().sum()\n",
        "empty_titles = true[true['title'] == ' '].append(true[true['title'] == '  ']).value_counts().sum()\n",
        "print(\"# unique titles = \" + str(unique_titles))\n",
        "print(\"# of empty titles = \" + str(empty_titles))\n",
        "print(\"Total texts = \" + str(unique_titles - empty_titles))"
      ]
    },
    {
      "cell_type": "code",
      "execution_count": 13,
      "metadata": {},
      "outputs": [],
      "source": [
        "true = true.drop(columns=['subject','date'])\n",
        "true_trn, true_val, true_tst = train_validate_test_split(true, train_percent=0.7, validate_percent=0.2, seed=1)"
      ]
    },
    {
      "cell_type": "code",
      "execution_count": 14,
      "metadata": {},
      "outputs": [
        {
          "output_type": "stream",
          "name": "stdout",
          "text": [
            "Training set: 31427\nValidation set: 8979\nTest set: 4492\n"
          ]
        }
      ],
      "source": [
        "df_trn, df_val, df_tst = pd.DataFrame(), pd.DataFrame(), pd.DataFrame()\n",
        "\n",
        "df_trn = true_trn.append(fake_trn).sample(frac=1).reset_index(drop=True)\n",
        "df_val = true_val.append(fake_val).sample(frac=1).reset_index(drop=True)\n",
        "df_tst = true_tst.append(fake_tst).sample(frac=1).reset_index(drop=True)\n",
        "\n",
        "print(\"Training set: \" + str(len(df_trn)))\n",
        "print(\"Validation set: \" + str(len(df_val)))\n",
        "print(\"Test set: \" + str(len(df_tst)))"
      ]
    },
    {
      "source": [
        "## Generate datasets with 'title'"
      ],
      "cell_type": "markdown",
      "metadata": {}
    },
    {
      "cell_type": "code",
      "execution_count": 24,
      "metadata": {},
      "outputs": [],
      "source": [
        "### Save titles\n",
        "df_trn.drop(columns=['text']).to_csv('./preprocessed_data/trn_title.csv', header=False, index=False)\n",
        "df_val.drop(columns=['text']).to_csv('./preprocessed_data/val_title.csv', header=False, index=False)\n",
        "df_tst.drop(columns=['text']).to_csv('./preprocessed_data/tst_title.csv', header=False, index=False)"
      ]
    },
    {
      "source": [
        "## Generate dataset with 'text'"
      ],
      "cell_type": "markdown",
      "metadata": {}
    },
    {
      "cell_type": "code",
      "execution_count": 25,
      "metadata": {},
      "outputs": [],
      "source": [
        "### Save texts\n",
        "df_trn.drop(columns=['title']).to_csv('./preprocessed_data/trn_text.csv', header=False, index=False)\n",
        "df_val.drop(columns=['title']).to_csv('./preprocessed_data/val_text.csv', header=False, index=False)\n",
        "df_tst.drop(columns=['title']).to_csv('./preprocessed_data/tst_text.csv', header=False, index=False)"
      ]
    },
    {
      "source": [
        "# Download preprocessed data"
      ],
      "cell_type": "markdown",
      "metadata": {}
    },
    {
      "cell_type": "code",
      "execution_count": 30,
      "metadata": {},
      "outputs": [
        {
          "output_type": "stream",
          "name": "stdout",
          "text": [
            "Downloading 1PUiB33hgTsefasb3D2t920Gu2mINLd4C into ./preprocessed_data/preprocessed_data.zip... Done.\n",
            "Unzipping...Done.\n"
          ]
        }
      ],
      "source": [
        "## Download pre-processed data\n",
        "gdd.download_file_from_google_drive(file_id='1PUiB33hgTsefasb3D2t920Gu2mINLd4C', dest_path='./preprocessed_data/preprocessed_data.zip', unzip=True)\n",
        "!rm ./preprocessed_data/preprocessed_data.zip"
      ]
    }
  ]
}