{
  "nbformat": 4,
  "nbformat_minor": 0,
  "metadata": {
    "kernelspec": {
      "display_name": "Python 3",
      "language": "python",
      "name": "python3"
    },
    "language_info": {
      "codemirror_mode": {
        "name": "ipython",
        "version": 3
      },
      "file_extension": ".py",
      "mimetype": "text/x-python",
      "name": "python",
      "nbconvert_exporter": "python",
      "pygments_lexer": "ipython3",
      "version": "3.8.8"
    },
    "colab": {
      "name": "neural_classifier.ipynb",
      "provenance": [],
      "collapsed_sections": []
    }
  },
  "cells": [
    {
      "source": [
        "!pip install googledrivedownloader;"
      ],
      "cell_type": "code",
      "metadata": {
        "id": "qSPIBRNuxYin"
      },
      "execution_count": 27,
      "outputs": [
        {
          "output_type": "stream",
          "name": "stdout",
          "text": [
            "Requirement already satisfied: googledrivedownloader in /Data/miniconda3/envs/ai/lib/python3.8/site-packages (0.4)\n"
          ]
        }
      ]
    },
    {
      "cell_type": "code",
      "metadata": {
        "id": "ULzaUL0_xYiq"
      },
      "source": [
        "import numpy as np\n",
        "import pandas as pd\n",
        "from matplotlib import pyplot as plt\n",
        "from google_drive_downloader import GoogleDriveDownloader as gdd\n",
        "\n",
        "import nltk\n",
        "nltk.download(\"punkt\")\n",
        "from nltk import RegexpTokenizer\n",
        "from nltk.lm import Vocabulary"
      ],
      "execution_count": 1,
      "outputs": [
        {
          "output_type": "stream",
          "name": "stderr",
          "text": [
            "[nltk_data] Downloading package punkt to /home/ft/nltk_data...\n[nltk_data]   Package punkt is already up-to-date!\n"
          ]
        }
      ]
    },
    {
      "source": [
        "# Common functions"
      ],
      "cell_type": "markdown",
      "metadata": {}
    },
    {
      "cell_type": "code",
      "execution_count": 2,
      "metadata": {},
      "outputs": [],
      "source": [
        "def train_validate_test_split(df, train_percent=.6, validate_percent=.2, seed=None):\n",
        "    np.random.seed(seed)\n",
        "    perm = np.random.permutation(df.index)\n",
        "    m = len(df.index)\n",
        "    train_end = int(train_percent * m)\n",
        "    validate_end = int(validate_percent * m) + train_end\n",
        "    train = df.iloc[perm[:train_end]]\n",
        "    validate = df.iloc[perm[train_end:validate_end]]\n",
        "    test = df.iloc[perm[validate_end:]]\n",
        "    return train, validate, test"
      ]
    },
    {
      "cell_type": "code",
      "execution_count": 3,
      "metadata": {},
      "outputs": [],
      "source": [
        "def tokenize(sentences):\n",
        "\n",
        "    tokenized_senteces = list()\n",
        "    for s, sent in enumerate(sentences):\n",
        "\n",
        "        remove_punctuation = RegexpTokenizer(r\"\\w+\")\n",
        "        tokenized_sent = remove_punctuation.tokenize(sent)\n",
        "\n",
        "        for i, t in enumerate(tokenized_sent):\n",
        "            if t.isnumeric():\n",
        "                tokenized_sent[i] = \"<num>\"\n",
        "\n",
        "        tokenized_senteces.append(tokenized_sent)\n",
        "\n",
        "    return tokenized_senteces"
      ]
    },
    {
      "cell_type": "code",
      "execution_count": 4,
      "metadata": {},
      "outputs": [],
      "source": [
        "def token_filter(tokenized_sentences, thresh=5):\n",
        "    \n",
        "    words = list()\n",
        "    for t_sent in tokenized_sentences:\n",
        "        for word in t_sent:\n",
        "            words.append(word)\n",
        "\n",
        "    vocab = Vocabulary(words, unk_cutoff=thresh)\n",
        "\n",
        "    filtered_sentences = list()\n",
        "\n",
        "    for t, tokenized_sent in enumerate(tokenized_sentences):\n",
        "        filtered_sent = list()\n",
        "        for word in tokenized_sent:\n",
        "            if vocab.lookup(word) == '<UNK>':\n",
        "                filtered_sent.append('<unk>')\n",
        "            else: \n",
        "                filtered_sent.append(word)\n",
        "        filtered_sentences.append(filtered_sent)\n",
        "\n",
        "    return filtered_sentences"
      ]
    },
    {
      "source": [
        "# Procesing data"
      ],
      "cell_type": "markdown",
      "metadata": {}
    },
    {
      "cell_type": "code",
      "execution_count": 5,
      "metadata": {},
      "outputs": [],
      "source": [
        "fake = pd.read_csv('./original_data/Fake.csv', delimiter = ',')\n",
        "fake['label']= 0"
      ]
    },
    {
      "cell_type": "code",
      "execution_count": 6,
      "metadata": {},
      "outputs": [
        {
          "output_type": "stream",
          "name": "stdout",
          "text": [
            "# fake news = 23481\n\n# unique texts = 23481\n# of empty texts = 630\nTotal texts = 22851\n\n# unique titles = 23481\n# of empty titles = 0\nTotal texts = 23481\n"
          ]
        }
      ],
      "source": [
        "print(\"# fake news = \" + str(len(fake)) + '\\n')\n",
        "\n",
        "unique_texts = fake['text'].value_counts().sum()\n",
        "empty_texts = fake[fake['text'] == ' '].append(fake[fake['text'] == '  ']).value_counts().sum()\n",
        "print(\"# unique texts = \" + str(unique_texts))\n",
        "print(\"# of empty texts = \" + str(empty_texts))\n",
        "print(\"Total texts = \" + str(unique_texts - empty_texts) + '\\n')\n",
        "\n",
        "unique_titles = fake['title'].value_counts().sum()\n",
        "empty_titles = fake[fake['title'] == ' '].append(fake[fake['title'] == '  ']).value_counts().sum()\n",
        "print(\"# unique titles = \" + str(unique_titles))\n",
        "print(\"# of empty titles = \" + str(empty_titles))\n",
        "print(\"Total texts = \" + str(unique_titles - empty_titles))"
      ]
    },
    {
      "cell_type": "code",
      "execution_count": 7,
      "metadata": {},
      "outputs": [],
      "source": [
        "### Remove empty text rows\n",
        "empy_texts_ids = fake[fake['text'] == ' '].append(fake[fake['text'] == '  ']).index\n",
        "fake = fake.drop(empy_texts_ids).reset_index(drop=True)"
      ]
    },
    {
      "cell_type": "code",
      "execution_count": 8,
      "metadata": {},
      "outputs": [],
      "source": [
        "### Remove subject and date columns\n",
        "fake = fake.drop(columns=['subject','date'])\n",
        "\n",
        "### Split dataset into trn / tst / val\n",
        "fake_trn, fake_val, fake_tst = train_validate_test_split(fake, train_percent=0.7, validate_percent=0.2, seed=1)"
      ]
    },
    {
      "cell_type": "code",
      "execution_count": 9,
      "metadata": {},
      "outputs": [],
      "source": [
        "true = pd.read_csv('./original_data/True.csv', delimiter = ',')\n",
        "true['label']= 1"
      ]
    },
    {
      "cell_type": "code",
      "execution_count": 10,
      "metadata": {},
      "outputs": [
        {
          "output_type": "stream",
          "name": "stdout",
          "text": [
            "# true news = 21417\n\n# unique texts = 21417\n# of empty texts = 1\nTotal texts = 21416\n\n# unique titles = 21417\n# of empty titles = 0\nTotal texts = 21417\n"
          ]
        }
      ],
      "source": [
        "print(\"# true news = \" + str(len(true)) + '\\n')\n",
        "\n",
        "unique_texts = true['text'].value_counts().sum()\n",
        "empty_texts = true[true['text'] == ' '].append(true[true['text'] == '  ']).value_counts().sum()\n",
        "print(\"# unique texts = \" + str(unique_texts))\n",
        "print(\"# of empty texts = \" + str(empty_texts))\n",
        "print(\"Total texts = \" + str(unique_texts - empty_texts) + '\\n')\n",
        "\n",
        "unique_titles = true['title'].value_counts().sum()\n",
        "empty_titles = true[true['title'] == ' '].append(true[true['title'] == '  ']).value_counts().sum()\n",
        "print(\"# unique titles = \" + str(unique_titles))\n",
        "print(\"# of empty titles = \" + str(empty_titles))\n",
        "print(\"Total texts = \" + str(unique_titles - empty_titles))"
      ]
    },
    {
      "cell_type": "code",
      "execution_count": 11,
      "metadata": {},
      "outputs": [],
      "source": [
        "### Remove empty text rows\n",
        "empy_texts_ids = true[true['text'] == ' '].append(true[true['text'] == '  ']).index\n",
        "true = true.drop(empy_texts_ids).reset_index(drop=True)"
      ]
    },
    {
      "cell_type": "code",
      "execution_count": 12,
      "metadata": {},
      "outputs": [],
      "source": [
        "### Remove subject and date columns\n",
        "true = true.drop(columns=['subject','date'])\n",
        "\n",
        "### Split dataset into trn / tst / val\n",
        "true_trn, true_val, true_tst = train_validate_test_split(true, train_percent=0.7, validate_percent=0.2, seed=1)"
      ]
    },
    {
      "cell_type": "code",
      "execution_count": 13,
      "metadata": {},
      "outputs": [
        {
          "output_type": "stream",
          "name": "stdout",
          "text": [
            "Training set: 30986\nValidation set: 8853\nTest set: 4428\n"
          ]
        }
      ],
      "source": [
        "df_trn, df_val, df_tst = pd.DataFrame(), pd.DataFrame(), pd.DataFrame()\n",
        "\n",
        "df_trn = true_trn.append(fake_trn).sample(frac=1).reset_index(drop=True)\n",
        "df_val = true_val.append(fake_val).sample(frac=1).reset_index(drop=True)\n",
        "df_tst = true_tst.append(fake_tst).sample(frac=1).reset_index(drop=True)\n",
        "\n",
        "print(\"Training set: \" + str(len(df_trn)))\n",
        "print(\"Validation set: \" + str(len(df_val)))\n",
        "print(\"Test set: \" + str(len(df_tst)))"
      ]
    },
    {
      "source": [
        "## Generate datasets with 'title'"
      ],
      "cell_type": "markdown",
      "metadata": {}
    },
    {
      "cell_type": "code",
      "execution_count": 14,
      "metadata": {},
      "outputs": [],
      "source": [
        "trn_sentences = tokenize(list(df_trn.title))\n",
        "trn_filtered_sentences = token_filter(trn_sentences,5)\n",
        "\n",
        "val_sentences = tokenize(list(df_val.title))\n",
        "val_filtered_sentences = token_filter(val_sentences,5)\n",
        "\n",
        "tst_sentences = tokenize(list(df_tst.title))\n",
        "tst_filtered_sentences = token_filter(tst_sentences,5)"
      ]
    },
    {
      "cell_type": "code",
      "execution_count": 15,
      "metadata": {},
      "outputs": [],
      "source": [
        "aux_list_trn, aux_list_val, aux_list_tst = list(), list(), list()\n",
        "for i in range(len(trn_filtered_sentences)):\n",
        "    aux_list_trn.append(' '.join(trn_filtered_sentences[i]))\n",
        "\n",
        "for i in range(len(val_filtered_sentences)):\n",
        "    aux_list_val.append(' '.join(val_filtered_sentences[i]))\n",
        "\n",
        "for i in range(len(tst_filtered_sentences)):\n",
        "    aux_list_tst.append(' '.join(tst_filtered_sentences[i]))"
      ]
    },
    {
      "cell_type": "code",
      "execution_count": 16,
      "metadata": {},
      "outputs": [],
      "source": [
        "df_trn_title = pd.DataFrame({\"title\":aux_list_trn, \"label\":df_trn.label}, columns=['title','label'])\n",
        "df_val_title = pd.DataFrame({\"title\":aux_list_val, \"label\":df_val.label}, columns=['title','label'])\n",
        "df_tst_title = pd.DataFrame({\"title\":aux_list_tst, \"label\":df_tst.label}, columns=['title','label'])"
      ]
    },
    {
      "cell_type": "code",
      "execution_count": 17,
      "metadata": {},
      "outputs": [],
      "source": [
        "### Save titles\n",
        "df_trn_title.to_csv('./preprocessed_data/trn_title.csv', header=False, index=False)\n",
        "df_val_title.to_csv('./preprocessed_data/val_title.csv', header=False, index=False)\n",
        "df_tst_title.to_csv('./preprocessed_data/tst_title.csv', header=False, index=False)"
      ]
    },
    {
      "source": [
        "## Generate dataset with 'text'"
      ],
      "cell_type": "markdown",
      "metadata": {}
    },
    {
      "cell_type": "code",
      "execution_count": 18,
      "metadata": {},
      "outputs": [],
      "source": [
        "trn_sentences = tokenize(list(df_trn.text))\n",
        "trn_filtered_sentences = token_filter(trn_sentences,5)\n",
        "\n",
        "val_sentences = tokenize(list(df_val.text))\n",
        "val_filtered_sentences = token_filter(val_sentences,5)\n",
        "\n",
        "tst_sentences = tokenize(list(df_tst.text))\n",
        "tst_filtered_sentences = token_filter(tst_sentences,5)"
      ]
    },
    {
      "cell_type": "code",
      "execution_count": 19,
      "metadata": {},
      "outputs": [],
      "source": [
        "aux_list_trn, aux_list_val, aux_list_tst = list(), list(), list()\n",
        "for i in range(len(trn_filtered_sentences)):\n",
        "    aux_list_trn.append(' '.join(trn_filtered_sentences[i]))\n",
        "\n",
        "for i in range(len(val_filtered_sentences)):\n",
        "    aux_list_val.append(' '.join(val_filtered_sentences[i]))\n",
        "\n",
        "for i in range(len(tst_filtered_sentences)):\n",
        "    aux_list_tst.append(' '.join(tst_filtered_sentences[i]))"
      ]
    },
    {
      "cell_type": "code",
      "execution_count": 20,
      "metadata": {},
      "outputs": [],
      "source": [
        "df_trn_text = pd.DataFrame({\"text\":aux_list_trn, \"label\":df_trn.label}, columns=['text','label'])\n",
        "df_val_text = pd.DataFrame({\"text\":aux_list_val, \"label\":df_val.label}, columns=['text','label'])\n",
        "df_tst_text = pd.DataFrame({\"text\":aux_list_tst, \"label\":df_tst.label}, columns=['text','label'])"
      ]
    },
    {
      "cell_type": "code",
      "execution_count": 21,
      "metadata": {},
      "outputs": [],
      "source": [
        "### Save texts\n",
        "df_trn_text.to_csv('./preprocessed_data/trn_text.csv', header=False, index=False)\n",
        "df_val_text.to_csv('./preprocessed_data/val_text.csv', header=False, index=False)\n",
        "df_tst_text.to_csv('./preprocessed_data/tst_text.csv', header=False, index=False)"
      ]
    },
    {
      "source": [
        "# Download preprocessed data"
      ],
      "cell_type": "markdown",
      "metadata": {}
    },
    {
      "cell_type": "code",
      "execution_count": 30,
      "metadata": {},
      "outputs": [
        {
          "output_type": "stream",
          "name": "stdout",
          "text": [
            "Downloading 1PUiB33hgTsefasb3D2t920Gu2mINLd4C into ./preprocessed_data/preprocessed_data.zip... Done.\n",
            "Unzipping...Done.\n"
          ]
        }
      ],
      "source": [
        "## Download pre-processed data\n",
        "gdd.download_file_from_google_drive(file_id='1PUiB33hgTsefasb3D2t920Gu2mINLd4C', dest_path='./preprocessed_data/preprocessed_data.zip', unzip=True)\n",
        "!rm ./preprocessed_data/preprocessed_data.zip"
      ]
    }
  ]
}