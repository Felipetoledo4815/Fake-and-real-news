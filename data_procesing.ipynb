{
  "nbformat": 4,
  "nbformat_minor": 0,
  "metadata": {
    "kernelspec": {
      "display_name": "Python 3",
      "language": "python",
      "name": "python3"
    },
    "language_info": {
      "codemirror_mode": {
        "name": "ipython",
        "version": 3
      },
      "file_extension": ".py",
      "mimetype": "text/x-python",
      "name": "python",
      "nbconvert_exporter": "python",
      "pygments_lexer": "ipython3",
      "version": "3.8.8-final"
    },
    "colab": {
      "name": "neural_classifier.ipynb",
      "provenance": [],
      "collapsed_sections": []
    }
  },
  "cells": [
    {
      "cell_type": "markdown",
      "metadata": {
        "id": "qSPIBRNuxYin"
      },
      "source": [
        "# Neural Classifiers"
      ]
    },
    {
      "cell_type": "code",
      "metadata": {
        "id": "ULzaUL0_xYiq"
      },
      "source": [
        "# Necessary packages\n",
        "import sys, os, random, math, sys\n",
        "import torch, spacy\n",
        "import numpy as np\n",
        "import pandas as pd\n",
        "from torch import nn\n",
        "from tqdm.notebook import trange, tqdm\n",
        "from matplotlib import pyplot as plt\n",
        "from torch import optim\n",
        "from torch.autograd import Variable\n",
        "from torch.nn.utils import clip_grad_norm_ as clip_grad_norm\n",
        "from torch.nn import functional as F\n",
        "\n",
        "\n",
        "## Random seeds, to make the results reproducible\n",
        "seed = 1\n",
        "random.seed(seed)\n",
        "np.random.seed(seed)\n",
        "torch.manual_seed(seed)\n",
        "torch.cuda.manual_seed_all(seed)\n",
        "torch.backends.cudnn.deterministic = True\n",
        "torch.backends.cudnn.benchmark = False"
      ],
      "execution_count": 4,
      "outputs": []
    },
    {
      "source": [
        "# Common functions"
      ],
      "cell_type": "markdown",
      "metadata": {}
    },
    {
      "cell_type": "code",
      "execution_count": 18,
      "metadata": {},
      "outputs": [],
      "source": [
        "def train_validate_test_split(df, train_percent=.6, validate_percent=.2, seed=None):\n",
        "    np.random.seed(seed)\n",
        "    perm = np.random.permutation(df.index)\n",
        "    m = len(df.index)\n",
        "    train_end = int(train_percent * m)\n",
        "    validate_end = int(validate_percent * m) + train_end\n",
        "    train = df.iloc[perm[:train_end]]\n",
        "    validate = df.iloc[perm[train_end:validate_end]]\n",
        "    test = df.iloc[perm[validate_end:]]\n",
        "    return train, validate, test"
      ]
    },
    {
      "source": [
        "# Procesing data"
      ],
      "cell_type": "markdown",
      "metadata": {}
    },
    {
      "cell_type": "code",
      "execution_count": 25,
      "metadata": {},
      "outputs": [],
      "source": [
        "fake = pd.read_csv('Fake.csv', delimiter = ',')\n",
        "fake['label']= 0\n",
        "fake = fake.drop(columns=['text','subject','date'])"
      ]
    },
    {
      "cell_type": "code",
      "execution_count": 19,
      "metadata": {},
      "outputs": [],
      "source": [
        "fake_trn, fake_val, fake_tst = train_validate_test_split(fake, train_percent=0.7, validate_percent=0.2, seed=1)"
      ]
    },
    {
      "cell_type": "code",
      "execution_count": 26,
      "metadata": {},
      "outputs": [],
      "source": [
        "true = pd.read_csv('True.csv', delimiter = ',')\n",
        "true['label']= 1\n",
        "true = true.drop(columns=['text','subject','date'])"
      ]
    },
    {
      "cell_type": "code",
      "execution_count": 24,
      "metadata": {},
      "outputs": [],
      "source": [
        "true_trn, true_val, true_tst = train_validate_test_split(true, train_percent=0.7, validate_percent=0.2, seed=1)"
      ]
    },
    {
      "cell_type": "code",
      "execution_count": 42,
      "metadata": {},
      "outputs": [
        {
          "output_type": "stream",
          "name": "stdout",
          "text": [
            "Training set: 31427\nValidation set: 8979\nTest set: 4492\n"
          ]
        }
      ],
      "source": [
        "df_trn, df_val, df_tst = pd.DataFrame(), pd.DataFrame(), pd.DataFrame()\n",
        "\n",
        "df_trn = true_trn.append(fake_trn).sample(frac=1).reset_index(drop=True)\n",
        "df_val = true_val.append(fake_val).sample(frac=1).reset_index(drop=True)\n",
        "df_tst = true_tst.append(fake_tst).sample(frac=1).reset_index(drop=True)\n",
        "\n",
        "print(\"Training set: \" + str(len(df_trn)))\n",
        "print(\"Validation set: \" + str(len(df_val)))\n",
        "print(\"Test set: \" + str(len(df_tst)))"
      ]
    },
    {
      "cell_type": "code",
      "execution_count": 100,
      "metadata": {},
      "outputs": [],
      "source": [
        "df_trn.to_csv('./preprocessed_data/trn.csv', header=False, index=False)\n",
        "df_val.to_csv('./preprocessed_data/val.csv', header=False, index=False)\n",
        "df_tst.to_csv('./preprocessed_data/tst.csv', header=False, index=False)"
      ]
    },
    {
      "cell_type": "markdown",
      "metadata": {
        "id": "CFsq6H-wxYir"
      },
      "source": [
        "## 1. Load Data"
      ]
    },
    {
      "cell_type": "markdown",
      "metadata": {
        "id": "DW4HwkptxYir"
      },
      "source": [
        "The following **reader()** function will do three things\n",
        "\n",
        "- read texts from files (line 22 - 25)\n",
        "- build a vocab based on training data (line 29)\n",
        "- convert each set (training, val, test) into a collection of mini-batch vector (line 35 - 39)\n",
        "\n",
        "The **input** to the neural network model defined in the next section is mini-batch word index matrix $\\bf{X}$\n",
        "$$\\bf{X} = [\\bf{x},\\dots,\\bf{x}_B]$$\n",
        "where each $\\bf{x}_i$ is a **column** vector containing word indices from an input text. $B$ is the mini-batch size as explained in the lacture.\n",
        "\n",
        "Sentences in a mini-batch usually have different lengths. To form a matrix $\\bf{X}$, a simple trick is to add a special token \\<pad\\> at the end of shorter sentences. For example, consider the two text examples in the lecture \n",
        "\n",
        "- I like coffee .\n",
        "- I don t like tea .\n",
        "\n",
        "To make these two examples have the same length, the preprocessing code will add two special \\<pad\\> tokens at the end of the first sentence \n",
        "\n",
        "- I like coffee . \\<pad\\> \\<pad\\>"
      ]
    },
    {
      "cell_type": "markdown",
      "metadata": {
        "id": "GSaVFGzWxYir"
      },
      "source": [
        "### 1.1 Define the data processing functions"
      ]
    },
    {
      "cell_type": "code",
      "metadata": {
        "id": "l-T0beERxYis"
      },
      "source": [
        "from torchtext.data import Field, ReversibleField, Dataset, TabularDataset, BucketIterator, Iterator\n",
        "\n",
        "# Download the 'en' module for spaCy using\n",
        "#  'python -m spacy download en'\n",
        "\n",
        "# spacy_en = spacy.load('en')\n",
        "\n",
        "def tokenize_fn(text):\n",
        "    \"\"\" Tokenization function\n",
        "    \"\"\"\n",
        "    # return [tok.text for tok in spacy_en.tokenizer(text)]\n",
        "    return text.strip().split()\n",
        "\n",
        "\n",
        "def reader(suffix=\".csv\", rpath=\"./preprocessed_data/\", batch_size=8, min_freq=2):\n",
        "    \"\"\"\n",
        "    - suffix: data file suffix\n",
        "    - rpath: path to the data files\n",
        "    - batch_size: mini-batch size\n",
        "    - min_freq: word frequency cutoff, frequency less than min_freq will be removed when building the vocab\n",
        "    \"\"\"\n",
        "    # Utterance Field: title\n",
        "    TXT = Field(sequential=True, tokenize=tokenize_fn, init_token=None, eos_token=None, lower=True)\n",
        "    LABEL = Field(sequential=False, unk_token=None, dtype=torch.long, use_vocab=False)\n",
        "    \n",
        "    # Create a Dataset for titles\n",
        "    fields = [(\"text\", TXT), (\"label\", LABEL)]\n",
        "    trn_data = TabularDataset(os.path.join(rpath,'trn'+suffix), format=\"CSV\", fields=fields, skip_header=False)\n",
        "    val_data = TabularDataset(os.path.join(rpath,'val'+suffix), format=\"CSV\", fields=fields, skip_header=False)\n",
        "    tst_data = TabularDataset(os.path.join(rpath,'tst'+suffix), format=\"CSV\", fields=fields, skip_header=False)\n",
        "    \n",
        "    # Split\n",
        "    # Build vocab using training data\n",
        "    TXT.build_vocab(trn_data, min_freq=min_freq) # or max_size=10000\n",
        "    # \n",
        "    train_iter, val_iter, test_iter = BucketIterator.splits((trn_data, val_data, tst_data), # data\n",
        "                                                             batch_size=batch_size, # \n",
        "                                                             sort=True, # sort_key not specified\n",
        "                                                             sort_key = lambda x : len(x.text),\n",
        "                                                             shuffle=False, # shuffle between epochs\n",
        "                                                             repeat=False)\n",
        "    return train_iter, val_iter, test_iter, TXT"
      ],
      "execution_count": 104,
      "outputs": []
    },
    {
      "cell_type": "markdown",
      "metadata": {
        "id": "2DDQGipUxYis"
      },
      "source": [
        "### 1.2 Processing the SST dataset\n",
        "\n",
        "Calling the previously defined functions to process the data. Potentially useful hyper-parameters in the following code block\n",
        "\n",
        "- **batch_size**: the number of training examples in each mini batch, default value: 16\n",
        "- **min_freq**: the cutoff threshold of low-frequency words, default value: 1 (no cutoff)"
      ]
    },
    {
      "cell_type": "code",
      "metadata": {
        "id": "B4i_betyxYit"
      },
      "source": [
        "train_iter, val_iter, test_iter, txtfield = reader(suffix=\".csv\", rpath=\"./preprocessed_data/\", batch_size=16, min_freq=1)\n",
        "vocab_size = len(txtfield.vocab)\n",
        "# print(txtfield.vocab.freqs)\n",
        "print(\"Vocab size = {}\".format(vocab_size))\n",
        "pad = txtfield.vocab.stoi[txtfield.pad_token]\n",
        "\n",
        "print(\"[TRAIN]:%d (dataset:%d)\\t[VAL]:%d (dataset:%d)\\t[TEST]:%d (dataset:%d)\"\n",
        "    % (len(train_iter), len(train_iter.dataset),\n",
        "    len(val_iter), len(val_iter.dataset),\n",
        "    len(test_iter), len(test_iter.dataset)))\n",
        "print(\"[vocab]:%d\" % (vocab_size))"
      ],
      "execution_count": 105,
      "outputs": [
        {
          "output_type": "stream",
          "name": "stderr",
          "text": [
            "/Data/miniconda3/envs/ai/lib/python3.8/site-packages/torchtext/data/field.py:150: UserWarning: Field class will be retired soon and moved to torchtext.legacy. Please see the most recent release notes for further information.\n",
            "  warnings.warn('{} class will be retired soon and moved to torchtext.legacy. Please see the most recent release notes for further information.'.format(self.__class__.__name__), UserWarning)\n",
            "/Data/miniconda3/envs/ai/lib/python3.8/site-packages/torchtext/data/example.py:68: UserWarning: Example class will be retired soon and moved to torchtext.legacy. Please see the most recent release notes for further information.\n",
            "  warnings.warn('Example class will be retired soon and moved to torchtext.legacy. Please see the most recent release notes for further information.', UserWarning)\n",
            "/Data/miniconda3/envs/ai/lib/python3.8/site-packages/torchtext/data/example.py:78: UserWarning: Example class will be retired soon and moved to torchtext.legacy. Please see the most recent release notes for further information.\n",
            "  warnings.warn('Example class will be retired soon and moved to torchtext.legacy. Please see the most recent release notes for further information.', UserWarning)\n",
            "Vocab size = 36473\n",
            "[TRAIN]:1965 (dataset:31427)\t[VAL]:562 (dataset:8979)\t[TEST]:281 (dataset:4492)\n",
            "[vocab]:36473\n",
            "/Data/miniconda3/envs/ai/lib/python3.8/site-packages/torchtext/data/iterator.py:48: UserWarning: BucketIterator class will be retired soon and moved to torchtext.legacy. Please see the most recent release notes for further information.\n",
            "  warnings.warn('{} class will be retired soon and moved to torchtext.legacy. Please see the most recent release notes for further information.'.format(self.__class__.__name__), UserWarning)\n"
          ]
        }
      ]
    },
    {
      "cell_type": "markdown",
      "metadata": {
        "id": "o9GY_kwixYit"
      },
      "source": [
        "## 2. A Simple Feed-forward Neural Network Classifier"
      ]
    },
    {
      "cell_type": "markdown",
      "metadata": {
        "id": "6587PyWgxYiu"
      },
      "source": [
        "The goal of this section is to demonstrate \n",
        "\n",
        "- how to define a simple neural text classifier\n",
        "- how to train the neural network model with the BP algorithm"
      ]
    },
    {
      "cell_type": "markdown",
      "metadata": {
        "id": "MY6BWIBbxYiu"
      },
      "source": [
        "### 2.1 Define Neural Network Models"
      ]
    },
    {
      "cell_type": "markdown",
      "metadata": {
        "id": "9Kqrjcd7xYiu"
      },
      "source": [
        "This section defines a basic neural network model (as illustrated in the following figure) for text classification. \n",
        "\n",
        "<img src=\"https://yangfengji.net/uva-nlp-course/code/figures/nns.png\" alt=\"drawing\" width=\"300\"/>\n",
        "\n",
        "There are two basic components of definiing neural network models in PyTorch\n",
        "\n",
        "- __ init __ (): Initialize an instance\n",
        "- forward(): Forward computation, the network architecture is specified in this function"
      ]
    },
    {
      "cell_type": "code",
      "metadata": {
        "id": "WC8DEpL6xYiv"
      },
      "source": [
        "class NeuralClassifier(nn.Module):\n",
        "    def __init__(self, vocab_size, embed_size, drop_rate=0.0, class_size=2, pad=1):\n",
        "        super(NeuralClassifier, self).__init__()\n",
        "        \"\"\" Initialization\n",
        "        - vocab_size\n",
        "        - embed_size: word embedding size\n",
        "        - drop_rate: dropout rate\n",
        "        - class_size: number of classes. For binary classification, class_size = 2\n",
        "        \"\"\"\n",
        "        # ---------------------------------\n",
        "        # Configuration\n",
        "        self.vocab_size = vocab_size # size of the vocab\n",
        "        self.class_size = class_size # number of classes\n",
        "        self.dropout = nn.Dropout(drop_rate)\n",
        "        self.pad = pad\n",
        "        # ---------------------------------\n",
        "        # Network parameters\n",
        "        self.embed = nn.Embedding(vocab_size, embed_size, padding_idx=pad)\n",
        "        self.fc = nn.Linear(embed_size, class_size, bias=True)\n",
        "\n",
        "\n",
        "    def forward(self, batch):\n",
        "        \"\"\" Forward function\n",
        "        \"\"\"\n",
        "        input, label = batch.text, batch.label\n",
        "        \n",
        "        # ---------------------------------\n",
        "        # === Hidden layer ===\n",
        "        # Sum over all the embeddings for each input text\n",
        "        #   then, pass through the nonlinear Sigmoid function\n",
        "        x = self.embed(input) # Dim: L x B x E\n",
        "        x = self.dropout(x)\n",
        "        hidden = torch.sigmoid(x.sum(axis=0)) # Dim: B x E\n",
        "        \n",
        "        # ---------------------------------\n",
        "        # === Classification layer ===\n",
        "        logit = self.fc(hidden) # Dim: Batch_size x Class_size\n",
        "        # Normalization\n",
        "        logprob = F.log_softmax(logit, dim=1)\n",
        "        \n",
        "        # ---------------------------------\n",
        "        # === Loss function ===\n",
        "        # Compute negative log-likelihood loss\n",
        "        loss = F.cross_entropy(logprob, label)\n",
        "        return loss, logprob\n"
      ],
      "execution_count": 71,
      "outputs": []
    },
    {
      "cell_type": "markdown",
      "metadata": {
        "id": "093e9cOOxYiv"
      },
      "source": [
        "### 2.2 A Convolutional Neural Network Classifier\n",
        "\n",
        "In this section, we will build a CNN classifier based on the specific instructions given in the homework assignment. Mostly, we re-use the data processing code provided in section 1 and the training code provided in section 2.3. In order to train the CNN classifier instead of the simple feedforward neural network classifiers, \n",
        "you need to replace code line 7 in section 2.2.2 with the following line:\n",
        "\n",
        "```Python\n",
        "    model = NeuralClassifier(vocab_size, embed_size=64, drop_rate=0.0, class_size=2)\n",
        "```"
      ]
    },
    {
      "cell_type": "code",
      "metadata": {
        "id": "PL_m5EaAxYiw"
      },
      "source": [
        "class SimpleCNN(nn.Module):\n",
        "    def __init__(self, vocab_size, embed_size, drop_rate=0.0,\n",
        "                 class_size=2, kernel_sizes=[2,3,4],\n",
        "                 dropout=0.0, using_cuda=False, pad=None):\n",
        "        super(SimpleCNN, self).__init__()\n",
        "        # ---------------------------------\n",
        "        # Configuration\n",
        "        self.vocab_size = vocab_size\n",
        "        self.embed_size = embed_size\n",
        "        self.class_size = class_size # number of classes\n",
        "        self.kernel_sizes = kernel_sizes # a list of kernel sizes\n",
        "        self.using_cuda = using_cuda\n",
        "        self.pad = pad # index of <pad> in vocab\n",
        "        # ---------------------------------\n",
        "        # Model Arch\n",
        "        # Remove the following line and define some parameters for the CNN model here\n",
        "        raise NotImplementedError(\"Not done yet\")\n",
        "\n",
        "\n",
        "    def forward(self, batch):\n",
        "        # ===============================\n",
        "        # Implement the CNN specified in the homework\n",
        "        \n",
        "        # ===============================\n",
        "        \n",
        "        logprob = F.log_softmax(logit, dim=1)\n",
        "        loss = F.cross_entropy(logprob, label)\n",
        "        return loss, logprob"
      ],
      "execution_count": null,
      "outputs": []
    },
    {
      "cell_type": "markdown",
      "metadata": {
        "id": "D_6Pc1cHxYiw"
      },
      "source": [
        "## 2.3 Neural Network Training"
      ]
    },
    {
      "cell_type": "markdown",
      "metadata": {
        "id": "xw_iFk_jxYix"
      },
      "source": [
        "### 2.2.1 Additional functions for mini-batch training and evaluation\n",
        "\n",
        "Define the training function with a mini-batch\n"
      ]
    },
    {
      "cell_type": "code",
      "metadata": {
        "id": "nGXCU5t5xYix"
      },
      "source": [
        "\n",
        "def batch_train(batch, model, optimizer):\n",
        "    \"\"\" Training with one batch\n",
        "    - batch: a min-batch of the data\n",
        "    - model: the defined neural network\n",
        "    - optimizer: optimization method used to update the parameters\n",
        "    \"\"\"\n",
        "    # set in training mode\n",
        "    model.train()\n",
        "    # initialize optimizer\n",
        "    optimizer.zero_grad()\n",
        "    # forward: prediction\n",
        "    loss, _ = model(batch)\n",
        "    # backward: gradient computation\n",
        "    loss.backward()\n",
        "    # norm clipping, in case the gradient norm is too large\n",
        "    clip_grad_norm(model.parameters(), grad_clip)\n",
        "    # gradient-based update parameter\n",
        "    optimizer.step()\n",
        "    return model, loss.item()"
      ],
      "execution_count": 72,
      "outputs": []
    },
    {
      "cell_type": "markdown",
      "metadata": {
        "id": "ekPdScG_xYix"
      },
      "source": [
        "Define the evaluation function"
      ]
    },
    {
      "cell_type": "code",
      "metadata": {
        "id": "7T67PggXxYiy"
      },
      "source": [
        "def eval(data_iter, model):\n",
        "    \"\"\" Evaluate the model with the data\n",
        "    data_iter: the data iterator \n",
        "    model: the defined model\n",
        "    \"\"\"\n",
        "    # set in the eval model, which will trun off the features only used for training, such as dropout\n",
        "    model.eval()\n",
        "    # records\n",
        "    val_loss, val_batch = 0, 0\n",
        "    total_example, correct_pred = 0, 0\n",
        "    # iterate all the mini batches for evaluation\n",
        "    for b, batch in enumerate(data_iter):\n",
        "        # Forward: prediction\n",
        "        loss, logprob = model(batch)\n",
        "        # \n",
        "        val_batch += 1\n",
        "        val_loss += loss\n",
        "        # Argmax\n",
        "        max_logprob, pred_label = torch.max(logprob, -1)\n",
        "        correct_pred += (pred_label==batch.label).sum()\n",
        "        total_example += batch.label.size()[0]\n",
        "    acc = (1.0*correct_pred)/total_example\n",
        "    # print(\"val_batch = {}\".format(val_batch))\n",
        "    return (val_loss/val_batch), acc"
      ],
      "execution_count": 73,
      "outputs": []
    },
    {
      "cell_type": "markdown",
      "metadata": {
        "id": "jfTdi_YUxYiy"
      },
      "source": [
        "### 2.2.2 Main function for training\n",
        "\n",
        "There are four blocks in the following code\n",
        "\n",
        "1. Reset the random seed to make sure that everytime you run the following code will get the same results (with the same hyper-parameters)\n",
        "2. Define the model and optimizers. Potentially useful hyper-parameters in this block\n",
        "    - **embed_size**: Word embedding size, default value: 64\n",
        "    - **drop_rate**: Dropout rate, default value: 0 (no dropout)\n",
        "    - **lr**: Initial learning rate ($\\eta_0$), default value: 0.1\n",
        "    - **weight_decay**: $\\ell_2$ regularization parameter, default value: 0 (no $\\ell_2$ regularization)\n",
        "3. Define the numbers of total training epochs and the number of updating steps for calling the validation function. Potentially useful hyper-parameters in this block\n",
        "    - **epoch**: Total training epoch, default value: 5\n",
        "    - **val_step**: Validation steps, default value: 50\n",
        "4. The main function of training"
      ]
    },
    {
      "cell_type": "code",
      "metadata": {
        "scrolled": true,
        "id": "LhD3UJkNxYiz"
      },
      "source": [
        "# -----------------------------------\n",
        "# 1. Random seed\n",
        "torch.manual_seed(seed)\n",
        "\n",
        "# ------------------------------------\n",
        "# 2. Define the model and optimizer\n",
        "# 'ffn': Feed-forward network; 'cnn': Convolutional neural network\n",
        "model_name = 'ffn' \n",
        "if model_name == 'ffn':\n",
        "    model = NeuralClassifier(vocab_size, embed_size=64, drop_rate=0.0, class_size=2)\n",
        "elif model_name == 'cnn':\n",
        "    model = SimpleCNN(vocab_size, embed_size=64, drop_rate=0.0, class_size=2)\n",
        "else:\n",
        "    raise ValueError(\"Unrecognized model name\")\n",
        "# optimizer\n",
        "optimizer = optim.SGD(model.parameters(), lr=1e-1, weight_decay=0)\n",
        "# the norm of grad clipping\n",
        "grad_clip = 1.0\n",
        "\n",
        "# ------------------------------------\n",
        "# 3. Define the numbers of training epochs and validation steps\n",
        "epoch, val_step = 5, 50\n",
        "\n",
        "# ------------------------------------\n",
        "# 4. Training iterations\n",
        "TrnLoss, ValLoss, ValAcc = [], [], []\n",
        "total_batch = 0\n",
        "for e in trange(epoch):\n",
        "    # print(e)\n",
        "    for b, batch in enumerate(train_iter):\n",
        "        total_batch += 1\n",
        "        # Update parameters with one batch\n",
        "        model, loss = batch_train(batch, model, optimizer)\n",
        "        # Compute validation loss after each val_step\n",
        "        if total_batch % val_step == 0:\n",
        "            val_loss, val_acc = eval(val_iter, model)\n",
        "            ValLoss.append(val_loss)\n",
        "            ValAcc.append(val_acc)\n",
        "            TrnLoss.append(loss)\n",
        "print(\"The best validation accuracy = {:.4}\".format(max(ValAcc)))"
      ],
      "execution_count": 106,
      "outputs": [
        {
          "output_type": "display_data",
          "data": {
            "text/plain": "  0%|          | 0/5 [00:00<?, ?it/s]",
            "application/vnd.jupyter.widget-view+json": {
              "version_major": 2,
              "version_minor": 0,
              "model_id": "8c70732efe4543b28b549d4cc7f4d141"
            }
          },
          "metadata": {}
        },
        {
          "output_type": "stream",
          "name": "stderr",
          "text": [
            "/Data/miniconda3/envs/ai/lib/python3.8/site-packages/torchtext/data/batch.py:23: UserWarning: Batch class will be retired soon and moved to torchtext.legacy. Please see the most recent release notes for further information.\n",
            "  warnings.warn('{} class will be retired soon and moved to torchtext.legacy. Please see the most recent release notes for further information.'.format(self.__class__.__name__), UserWarning)\n",
            "The best validation accuracy = 0.7721\n"
          ]
        }
      ]
    },
    {
      "cell_type": "markdown",
      "metadata": {
        "id": "m33DZO_nxYiz"
      },
      "source": [
        "Plot the training and validation losses along the training steps (each step involves updating with one mini-batch of the training examples). \n",
        "\n",
        "Although the validation loss *fluctuates* along with updating, the over tendency is decreasing, which means the model is learning some information that is useful for prediction.\n",
        "\n",
        "An alterative way of visualizing the following curves dynamically is using [tensorboard](https://pytorch.org/docs/stable/tensorboard.html), which will not be covered in this class."
      ]
    },
    {
      "cell_type": "code",
      "metadata": {
        "id": "4-T5velmxYiz"
      },
      "source": [
        "plt.plot(range(len(TrnLoss)), TrnLoss, color=\"red\", label=\"Training Loss\") # Training loss\n",
        "plt.plot(range(len(ValLoss)), ValLoss, color=\"blue\", label=\"Develoopment Loss\") # Val loss\n",
        "plt.xlabel(\"Steps\")\n",
        "plt.ylabel(\"NLL\")\n",
        "plt.legend()"
      ],
      "execution_count": 107,
      "outputs": [
        {
          "output_type": "execute_result",
          "data": {
            "text/plain": [
              "<matplotlib.legend.Legend at 0x7fc58f5c9370>"
            ]
          },
          "metadata": {},
          "execution_count": 107
        },
        {
          "output_type": "display_data",
          "data": {
            "text/plain": "<Figure size 432x288 with 1 Axes>",
            "image/svg+xml": "<?xml version=\"1.0\" encoding=\"utf-8\" standalone=\"no\"?>\n<!DOCTYPE svg PUBLIC \"-//W3C//DTD SVG 1.1//EN\"\n  \"http://www.w3.org/Graphics/SVG/1.1/DTD/svg11.dtd\">\n<!-- Created with matplotlib (https://matplotlib.org/) -->\n<svg height=\"262.19625pt\" version=\"1.1\" viewBox=\"0 0 387.911014 262.19625\" width=\"387.911014pt\" xmlns=\"http://www.w3.org/2000/svg\" xmlns:xlink=\"http://www.w3.org/1999/xlink\">\n <metadata>\n  <rdf:RDF xmlns:cc=\"http://creativecommons.org/ns#\" xmlns:dc=\"http://purl.org/dc/elements/1.1/\" xmlns:rdf=\"http://www.w3.org/1999/02/22-rdf-syntax-ns#\">\n   <cc:Work>\n    <dc:type rdf:resource=\"http://purl.org/dc/dcmitype/StillImage\"/>\n    <dc:date>2021-03-12T13:56:51.872343</dc:date>\n    <dc:format>image/svg+xml</dc:format>\n    <dc:creator>\n     <cc:Agent>\n      <dc:title>Matplotlib v3.3.1, https://matplotlib.org/</dc:title>\n     </cc:Agent>\n    </dc:creator>\n   </cc:Work>\n  </rdf:RDF>\n </metadata>\n <defs>\n  <style type=\"text/css\">*{stroke-linecap:butt;stroke-linejoin:round;}</style>\n </defs>\n <g id=\"figure_1\">\n  <g id=\"patch_1\">\n   <path d=\"M 0 262.19625 \nL 387.911014 262.19625 \nL 387.911014 0 \nL 0 0 \nz\n\" style=\"fill:none;\"/>\n  </g>\n  <g id=\"axes_1\">\n   <g id=\"patch_2\">\n    <path d=\"M 43.78125 224.64 \nL 378.58125 224.64 \nL 378.58125 7.2 \nL 43.78125 7.2 \nz\n\" style=\"fill:#ffffff;\"/>\n   </g>\n   <g id=\"matplotlib.axis_1\">\n    <g id=\"xtick_1\">\n     <g id=\"line2d_1\">\n      <defs>\n       <path d=\"M 0 0 \nL 0 3.5 \n\" id=\"m46d941874b\" style=\"stroke:#000000;stroke-width:0.8;\"/>\n      </defs>\n      <g>\n       <use style=\"stroke:#000000;stroke-width:0.8;\" x=\"58.999432\" xlink:href=\"#m46d941874b\" y=\"224.64\"/>\n      </g>\n     </g>\n     <g id=\"text_1\">\n      <!-- 0 -->\n      <g transform=\"translate(55.818182 239.238438)scale(0.1 -0.1)\">\n       <defs>\n        <path d=\"M 31.78125 66.40625 \nQ 24.171875 66.40625 20.328125 58.90625 \nQ 16.5 51.421875 16.5 36.375 \nQ 16.5 21.390625 20.328125 13.890625 \nQ 24.171875 6.390625 31.78125 6.390625 \nQ 39.453125 6.390625 43.28125 13.890625 \nQ 47.125 21.390625 47.125 36.375 \nQ 47.125 51.421875 43.28125 58.90625 \nQ 39.453125 66.40625 31.78125 66.40625 \nz\nM 31.78125 74.21875 \nQ 44.046875 74.21875 50.515625 64.515625 \nQ 56.984375 54.828125 56.984375 36.375 \nQ 56.984375 17.96875 50.515625 8.265625 \nQ 44.046875 -1.421875 31.78125 -1.421875 \nQ 19.53125 -1.421875 13.0625 8.265625 \nQ 6.59375 17.96875 6.59375 36.375 \nQ 6.59375 54.828125 13.0625 64.515625 \nQ 19.53125 74.21875 31.78125 74.21875 \nz\n\" id=\"DejaVuSans-48\"/>\n       </defs>\n       <use xlink:href=\"#DejaVuSans-48\"/>\n      </g>\n     </g>\n    </g>\n    <g id=\"xtick_2\">\n     <g id=\"line2d_2\">\n      <g>\n       <use style=\"stroke:#000000;stroke-width:0.8;\" x=\"98.020411\" xlink:href=\"#m46d941874b\" y=\"224.64\"/>\n      </g>\n     </g>\n     <g id=\"text_2\">\n      <!-- 25 -->\n      <g transform=\"translate(91.657911 239.238438)scale(0.1 -0.1)\">\n       <defs>\n        <path d=\"M 19.1875 8.296875 \nL 53.609375 8.296875 \nL 53.609375 0 \nL 7.328125 0 \nL 7.328125 8.296875 \nQ 12.9375 14.109375 22.625 23.890625 \nQ 32.328125 33.6875 34.8125 36.53125 \nQ 39.546875 41.84375 41.421875 45.53125 \nQ 43.3125 49.21875 43.3125 52.78125 \nQ 43.3125 58.59375 39.234375 62.25 \nQ 35.15625 65.921875 28.609375 65.921875 \nQ 23.96875 65.921875 18.8125 64.3125 \nQ 13.671875 62.703125 7.8125 59.421875 \nL 7.8125 69.390625 \nQ 13.765625 71.78125 18.9375 73 \nQ 24.125 74.21875 28.421875 74.21875 \nQ 39.75 74.21875 46.484375 68.546875 \nQ 53.21875 62.890625 53.21875 53.421875 \nQ 53.21875 48.921875 51.53125 44.890625 \nQ 49.859375 40.875 45.40625 35.40625 \nQ 44.1875 33.984375 37.640625 27.21875 \nQ 31.109375 20.453125 19.1875 8.296875 \nz\n\" id=\"DejaVuSans-50\"/>\n        <path d=\"M 10.796875 72.90625 \nL 49.515625 72.90625 \nL 49.515625 64.59375 \nL 19.828125 64.59375 \nL 19.828125 46.734375 \nQ 21.96875 47.46875 24.109375 47.828125 \nQ 26.265625 48.1875 28.421875 48.1875 \nQ 40.625 48.1875 47.75 41.5 \nQ 54.890625 34.8125 54.890625 23.390625 \nQ 54.890625 11.625 47.5625 5.09375 \nQ 40.234375 -1.421875 26.90625 -1.421875 \nQ 22.3125 -1.421875 17.546875 -0.640625 \nQ 12.796875 0.140625 7.71875 1.703125 \nL 7.71875 11.625 \nQ 12.109375 9.234375 16.796875 8.0625 \nQ 21.484375 6.890625 26.703125 6.890625 \nQ 35.15625 6.890625 40.078125 11.328125 \nQ 45.015625 15.765625 45.015625 23.390625 \nQ 45.015625 31 40.078125 35.4375 \nQ 35.15625 39.890625 26.703125 39.890625 \nQ 22.75 39.890625 18.8125 39.015625 \nQ 14.890625 38.140625 10.796875 36.28125 \nz\n\" id=\"DejaVuSans-53\"/>\n       </defs>\n       <use xlink:href=\"#DejaVuSans-50\"/>\n       <use x=\"63.623047\" xlink:href=\"#DejaVuSans-53\"/>\n      </g>\n     </g>\n    </g>\n    <g id=\"xtick_3\">\n     <g id=\"line2d_3\">\n      <g>\n       <use style=\"stroke:#000000;stroke-width:0.8;\" x=\"137.04139\" xlink:href=\"#m46d941874b\" y=\"224.64\"/>\n      </g>\n     </g>\n     <g id=\"text_3\">\n      <!-- 50 -->\n      <g transform=\"translate(130.67889 239.238438)scale(0.1 -0.1)\">\n       <use xlink:href=\"#DejaVuSans-53\"/>\n       <use x=\"63.623047\" xlink:href=\"#DejaVuSans-48\"/>\n      </g>\n     </g>\n    </g>\n    <g id=\"xtick_4\">\n     <g id=\"line2d_4\">\n      <g>\n       <use style=\"stroke:#000000;stroke-width:0.8;\" x=\"176.062369\" xlink:href=\"#m46d941874b\" y=\"224.64\"/>\n      </g>\n     </g>\n     <g id=\"text_4\">\n      <!-- 75 -->\n      <g transform=\"translate(169.699869 239.238438)scale(0.1 -0.1)\">\n       <defs>\n        <path d=\"M 8.203125 72.90625 \nL 55.078125 72.90625 \nL 55.078125 68.703125 \nL 28.609375 0 \nL 18.3125 0 \nL 43.21875 64.59375 \nL 8.203125 64.59375 \nz\n\" id=\"DejaVuSans-55\"/>\n       </defs>\n       <use xlink:href=\"#DejaVuSans-55\"/>\n       <use x=\"63.623047\" xlink:href=\"#DejaVuSans-53\"/>\n      </g>\n     </g>\n    </g>\n    <g id=\"xtick_5\">\n     <g id=\"line2d_5\">\n      <g>\n       <use style=\"stroke:#000000;stroke-width:0.8;\" x=\"215.083348\" xlink:href=\"#m46d941874b\" y=\"224.64\"/>\n      </g>\n     </g>\n     <g id=\"text_5\">\n      <!-- 100 -->\n      <g transform=\"translate(205.539598 239.238438)scale(0.1 -0.1)\">\n       <defs>\n        <path d=\"M 12.40625 8.296875 \nL 28.515625 8.296875 \nL 28.515625 63.921875 \nL 10.984375 60.40625 \nL 10.984375 69.390625 \nL 28.421875 72.90625 \nL 38.28125 72.90625 \nL 38.28125 8.296875 \nL 54.390625 8.296875 \nL 54.390625 0 \nL 12.40625 0 \nz\n\" id=\"DejaVuSans-49\"/>\n       </defs>\n       <use xlink:href=\"#DejaVuSans-49\"/>\n       <use x=\"63.623047\" xlink:href=\"#DejaVuSans-48\"/>\n       <use x=\"127.246094\" xlink:href=\"#DejaVuSans-48\"/>\n      </g>\n     </g>\n    </g>\n    <g id=\"xtick_6\">\n     <g id=\"line2d_6\">\n      <g>\n       <use style=\"stroke:#000000;stroke-width:0.8;\" x=\"254.104327\" xlink:href=\"#m46d941874b\" y=\"224.64\"/>\n      </g>\n     </g>\n     <g id=\"text_6\">\n      <!-- 125 -->\n      <g transform=\"translate(244.560577 239.238438)scale(0.1 -0.1)\">\n       <use xlink:href=\"#DejaVuSans-49\"/>\n       <use x=\"63.623047\" xlink:href=\"#DejaVuSans-50\"/>\n       <use x=\"127.246094\" xlink:href=\"#DejaVuSans-53\"/>\n      </g>\n     </g>\n    </g>\n    <g id=\"xtick_7\">\n     <g id=\"line2d_7\">\n      <g>\n       <use style=\"stroke:#000000;stroke-width:0.8;\" x=\"293.125306\" xlink:href=\"#m46d941874b\" y=\"224.64\"/>\n      </g>\n     </g>\n     <g id=\"text_7\">\n      <!-- 150 -->\n      <g transform=\"translate(283.581556 239.238438)scale(0.1 -0.1)\">\n       <use xlink:href=\"#DejaVuSans-49\"/>\n       <use x=\"63.623047\" xlink:href=\"#DejaVuSans-53\"/>\n       <use x=\"127.246094\" xlink:href=\"#DejaVuSans-48\"/>\n      </g>\n     </g>\n    </g>\n    <g id=\"xtick_8\">\n     <g id=\"line2d_8\">\n      <g>\n       <use style=\"stroke:#000000;stroke-width:0.8;\" x=\"332.146285\" xlink:href=\"#m46d941874b\" y=\"224.64\"/>\n      </g>\n     </g>\n     <g id=\"text_8\">\n      <!-- 175 -->\n      <g transform=\"translate(322.602535 239.238438)scale(0.1 -0.1)\">\n       <use xlink:href=\"#DejaVuSans-49\"/>\n       <use x=\"63.623047\" xlink:href=\"#DejaVuSans-55\"/>\n       <use x=\"127.246094\" xlink:href=\"#DejaVuSans-53\"/>\n      </g>\n     </g>\n    </g>\n    <g id=\"xtick_9\">\n     <g id=\"line2d_9\">\n      <g>\n       <use style=\"stroke:#000000;stroke-width:0.8;\" x=\"371.167264\" xlink:href=\"#m46d941874b\" y=\"224.64\"/>\n      </g>\n     </g>\n     <g id=\"text_9\">\n      <!-- 200 -->\n      <g transform=\"translate(361.623514 239.238438)scale(0.1 -0.1)\">\n       <use xlink:href=\"#DejaVuSans-50\"/>\n       <use x=\"63.623047\" xlink:href=\"#DejaVuSans-48\"/>\n       <use x=\"127.246094\" xlink:href=\"#DejaVuSans-48\"/>\n      </g>\n     </g>\n    </g>\n    <g id=\"text_10\">\n     <!-- Steps -->\n     <g transform=\"translate(197.191406 252.916563)scale(0.1 -0.1)\">\n      <defs>\n       <path d=\"M 53.515625 70.515625 \nL 53.515625 60.890625 \nQ 47.90625 63.578125 42.921875 64.890625 \nQ 37.9375 66.21875 33.296875 66.21875 \nQ 25.25 66.21875 20.875 63.09375 \nQ 16.5 59.96875 16.5 54.203125 \nQ 16.5 49.359375 19.40625 46.890625 \nQ 22.3125 44.4375 30.421875 42.921875 \nL 36.375 41.703125 \nQ 47.40625 39.59375 52.65625 34.296875 \nQ 57.90625 29 57.90625 20.125 \nQ 57.90625 9.515625 50.796875 4.046875 \nQ 43.703125 -1.421875 29.984375 -1.421875 \nQ 24.8125 -1.421875 18.96875 -0.25 \nQ 13.140625 0.921875 6.890625 3.21875 \nL 6.890625 13.375 \nQ 12.890625 10.015625 18.65625 8.296875 \nQ 24.421875 6.59375 29.984375 6.59375 \nQ 38.421875 6.59375 43.015625 9.90625 \nQ 47.609375 13.234375 47.609375 19.390625 \nQ 47.609375 24.75 44.3125 27.78125 \nQ 41.015625 30.8125 33.5 32.328125 \nL 27.484375 33.5 \nQ 16.453125 35.6875 11.515625 40.375 \nQ 6.59375 45.0625 6.59375 53.421875 \nQ 6.59375 63.09375 13.40625 68.65625 \nQ 20.21875 74.21875 32.171875 74.21875 \nQ 37.3125 74.21875 42.625 73.28125 \nQ 47.953125 72.359375 53.515625 70.515625 \nz\n\" id=\"DejaVuSans-83\"/>\n       <path d=\"M 18.3125 70.21875 \nL 18.3125 54.6875 \nL 36.8125 54.6875 \nL 36.8125 47.703125 \nL 18.3125 47.703125 \nL 18.3125 18.015625 \nQ 18.3125 11.328125 20.140625 9.421875 \nQ 21.96875 7.515625 27.59375 7.515625 \nL 36.8125 7.515625 \nL 36.8125 0 \nL 27.59375 0 \nQ 17.1875 0 13.234375 3.875 \nQ 9.28125 7.765625 9.28125 18.015625 \nL 9.28125 47.703125 \nL 2.6875 47.703125 \nL 2.6875 54.6875 \nL 9.28125 54.6875 \nL 9.28125 70.21875 \nz\n\" id=\"DejaVuSans-116\"/>\n       <path d=\"M 56.203125 29.59375 \nL 56.203125 25.203125 \nL 14.890625 25.203125 \nQ 15.484375 15.921875 20.484375 11.0625 \nQ 25.484375 6.203125 34.421875 6.203125 \nQ 39.59375 6.203125 44.453125 7.46875 \nQ 49.3125 8.734375 54.109375 11.28125 \nL 54.109375 2.78125 \nQ 49.265625 0.734375 44.1875 -0.34375 \nQ 39.109375 -1.421875 33.890625 -1.421875 \nQ 20.796875 -1.421875 13.15625 6.1875 \nQ 5.515625 13.8125 5.515625 26.8125 \nQ 5.515625 40.234375 12.765625 48.109375 \nQ 20.015625 56 32.328125 56 \nQ 43.359375 56 49.78125 48.890625 \nQ 56.203125 41.796875 56.203125 29.59375 \nz\nM 47.21875 32.234375 \nQ 47.125 39.59375 43.09375 43.984375 \nQ 39.0625 48.390625 32.421875 48.390625 \nQ 24.90625 48.390625 20.390625 44.140625 \nQ 15.875 39.890625 15.1875 32.171875 \nz\n\" id=\"DejaVuSans-101\"/>\n       <path d=\"M 18.109375 8.203125 \nL 18.109375 -20.796875 \nL 9.078125 -20.796875 \nL 9.078125 54.6875 \nL 18.109375 54.6875 \nL 18.109375 46.390625 \nQ 20.953125 51.265625 25.265625 53.625 \nQ 29.59375 56 35.59375 56 \nQ 45.5625 56 51.78125 48.09375 \nQ 58.015625 40.1875 58.015625 27.296875 \nQ 58.015625 14.40625 51.78125 6.484375 \nQ 45.5625 -1.421875 35.59375 -1.421875 \nQ 29.59375 -1.421875 25.265625 0.953125 \nQ 20.953125 3.328125 18.109375 8.203125 \nz\nM 48.6875 27.296875 \nQ 48.6875 37.203125 44.609375 42.84375 \nQ 40.53125 48.484375 33.40625 48.484375 \nQ 26.265625 48.484375 22.1875 42.84375 \nQ 18.109375 37.203125 18.109375 27.296875 \nQ 18.109375 17.390625 22.1875 11.75 \nQ 26.265625 6.109375 33.40625 6.109375 \nQ 40.53125 6.109375 44.609375 11.75 \nQ 48.6875 17.390625 48.6875 27.296875 \nz\n\" id=\"DejaVuSans-112\"/>\n       <path d=\"M 44.28125 53.078125 \nL 44.28125 44.578125 \nQ 40.484375 46.53125 36.375 47.5 \nQ 32.28125 48.484375 27.875 48.484375 \nQ 21.1875 48.484375 17.84375 46.4375 \nQ 14.5 44.390625 14.5 40.28125 \nQ 14.5 37.15625 16.890625 35.375 \nQ 19.28125 33.59375 26.515625 31.984375 \nL 29.59375 31.296875 \nQ 39.15625 29.25 43.1875 25.515625 \nQ 47.21875 21.78125 47.21875 15.09375 \nQ 47.21875 7.46875 41.1875 3.015625 \nQ 35.15625 -1.421875 24.609375 -1.421875 \nQ 20.21875 -1.421875 15.453125 -0.5625 \nQ 10.6875 0.296875 5.421875 2 \nL 5.421875 11.28125 \nQ 10.40625 8.6875 15.234375 7.390625 \nQ 20.0625 6.109375 24.8125 6.109375 \nQ 31.15625 6.109375 34.5625 8.28125 \nQ 37.984375 10.453125 37.984375 14.40625 \nQ 37.984375 18.0625 35.515625 20.015625 \nQ 33.0625 21.96875 24.703125 23.78125 \nL 21.578125 24.515625 \nQ 13.234375 26.265625 9.515625 29.90625 \nQ 5.8125 33.546875 5.8125 39.890625 \nQ 5.8125 47.609375 11.28125 51.796875 \nQ 16.75 56 26.8125 56 \nQ 31.78125 56 36.171875 55.265625 \nQ 40.578125 54.546875 44.28125 53.078125 \nz\n\" id=\"DejaVuSans-115\"/>\n      </defs>\n      <use xlink:href=\"#DejaVuSans-83\"/>\n      <use x=\"63.476562\" xlink:href=\"#DejaVuSans-116\"/>\n      <use x=\"102.685547\" xlink:href=\"#DejaVuSans-101\"/>\n      <use x=\"164.208984\" xlink:href=\"#DejaVuSans-112\"/>\n      <use x=\"227.685547\" xlink:href=\"#DejaVuSans-115\"/>\n     </g>\n    </g>\n   </g>\n   <g id=\"matplotlib.axis_2\">\n    <g id=\"ytick_1\">\n     <g id=\"line2d_10\">\n      <defs>\n       <path d=\"M 0 0 \nL -3.5 0 \n\" id=\"ma0e1aa5c33\" style=\"stroke:#000000;stroke-width:0.8;\"/>\n      </defs>\n      <g>\n       <use style=\"stroke:#000000;stroke-width:0.8;\" x=\"43.78125\" xlink:href=\"#ma0e1aa5c33\" y=\"214.787326\"/>\n      </g>\n     </g>\n     <g id=\"text_11\">\n      <!-- 0.0 -->\n      <g transform=\"translate(20.878125 218.586544)scale(0.1 -0.1)\">\n       <defs>\n        <path d=\"M 10.6875 12.40625 \nL 21 12.40625 \nL 21 0 \nL 10.6875 0 \nz\n\" id=\"DejaVuSans-46\"/>\n       </defs>\n       <use xlink:href=\"#DejaVuSans-48\"/>\n       <use x=\"63.623047\" xlink:href=\"#DejaVuSans-46\"/>\n       <use x=\"95.410156\" xlink:href=\"#DejaVuSans-48\"/>\n      </g>\n     </g>\n    </g>\n    <g id=\"ytick_2\">\n     <g id=\"line2d_11\">\n      <g>\n       <use style=\"stroke:#000000;stroke-width:0.8;\" x=\"43.78125\" xlink:href=\"#ma0e1aa5c33\" y=\"186.570311\"/>\n      </g>\n     </g>\n     <g id=\"text_12\">\n      <!-- 0.5 -->\n      <g transform=\"translate(20.878125 190.36953)scale(0.1 -0.1)\">\n       <use xlink:href=\"#DejaVuSans-48\"/>\n       <use x=\"63.623047\" xlink:href=\"#DejaVuSans-46\"/>\n       <use x=\"95.410156\" xlink:href=\"#DejaVuSans-53\"/>\n      </g>\n     </g>\n    </g>\n    <g id=\"ytick_3\">\n     <g id=\"line2d_12\">\n      <g>\n       <use style=\"stroke:#000000;stroke-width:0.8;\" x=\"43.78125\" xlink:href=\"#ma0e1aa5c33\" y=\"158.353297\"/>\n      </g>\n     </g>\n     <g id=\"text_13\">\n      <!-- 1.0 -->\n      <g transform=\"translate(20.878125 162.152515)scale(0.1 -0.1)\">\n       <use xlink:href=\"#DejaVuSans-49\"/>\n       <use x=\"63.623047\" xlink:href=\"#DejaVuSans-46\"/>\n       <use x=\"95.410156\" xlink:href=\"#DejaVuSans-48\"/>\n      </g>\n     </g>\n    </g>\n    <g id=\"ytick_4\">\n     <g id=\"line2d_13\">\n      <g>\n       <use style=\"stroke:#000000;stroke-width:0.8;\" x=\"43.78125\" xlink:href=\"#ma0e1aa5c33\" y=\"130.136282\"/>\n      </g>\n     </g>\n     <g id=\"text_14\">\n      <!-- 1.5 -->\n      <g transform=\"translate(20.878125 133.935501)scale(0.1 -0.1)\">\n       <use xlink:href=\"#DejaVuSans-49\"/>\n       <use x=\"63.623047\" xlink:href=\"#DejaVuSans-46\"/>\n       <use x=\"95.410156\" xlink:href=\"#DejaVuSans-53\"/>\n      </g>\n     </g>\n    </g>\n    <g id=\"ytick_5\">\n     <g id=\"line2d_14\">\n      <g>\n       <use style=\"stroke:#000000;stroke-width:0.8;\" x=\"43.78125\" xlink:href=\"#ma0e1aa5c33\" y=\"101.919268\"/>\n      </g>\n     </g>\n     <g id=\"text_15\">\n      <!-- 2.0 -->\n      <g transform=\"translate(20.878125 105.718487)scale(0.1 -0.1)\">\n       <use xlink:href=\"#DejaVuSans-50\"/>\n       <use x=\"63.623047\" xlink:href=\"#DejaVuSans-46\"/>\n       <use x=\"95.410156\" xlink:href=\"#DejaVuSans-48\"/>\n      </g>\n     </g>\n    </g>\n    <g id=\"ytick_6\">\n     <g id=\"line2d_15\">\n      <g>\n       <use style=\"stroke:#000000;stroke-width:0.8;\" x=\"43.78125\" xlink:href=\"#ma0e1aa5c33\" y=\"73.702253\"/>\n      </g>\n     </g>\n     <g id=\"text_16\">\n      <!-- 2.5 -->\n      <g transform=\"translate(20.878125 77.501472)scale(0.1 -0.1)\">\n       <use xlink:href=\"#DejaVuSans-50\"/>\n       <use x=\"63.623047\" xlink:href=\"#DejaVuSans-46\"/>\n       <use x=\"95.410156\" xlink:href=\"#DejaVuSans-53\"/>\n      </g>\n     </g>\n    </g>\n    <g id=\"ytick_7\">\n     <g id=\"line2d_16\">\n      <g>\n       <use style=\"stroke:#000000;stroke-width:0.8;\" x=\"43.78125\" xlink:href=\"#ma0e1aa5c33\" y=\"45.485239\"/>\n      </g>\n     </g>\n     <g id=\"text_17\">\n      <!-- 3.0 -->\n      <g transform=\"translate(20.878125 49.284458)scale(0.1 -0.1)\">\n       <defs>\n        <path d=\"M 40.578125 39.3125 \nQ 47.65625 37.796875 51.625 33 \nQ 55.609375 28.21875 55.609375 21.1875 \nQ 55.609375 10.40625 48.1875 4.484375 \nQ 40.765625 -1.421875 27.09375 -1.421875 \nQ 22.515625 -1.421875 17.65625 -0.515625 \nQ 12.796875 0.390625 7.625 2.203125 \nL 7.625 11.71875 \nQ 11.71875 9.328125 16.59375 8.109375 \nQ 21.484375 6.890625 26.8125 6.890625 \nQ 36.078125 6.890625 40.9375 10.546875 \nQ 45.796875 14.203125 45.796875 21.1875 \nQ 45.796875 27.640625 41.28125 31.265625 \nQ 36.765625 34.90625 28.71875 34.90625 \nL 20.21875 34.90625 \nL 20.21875 43.015625 \nL 29.109375 43.015625 \nQ 36.375 43.015625 40.234375 45.921875 \nQ 44.09375 48.828125 44.09375 54.296875 \nQ 44.09375 59.90625 40.109375 62.90625 \nQ 36.140625 65.921875 28.71875 65.921875 \nQ 24.65625 65.921875 20.015625 65.03125 \nQ 15.375 64.15625 9.8125 62.3125 \nL 9.8125 71.09375 \nQ 15.4375 72.65625 20.34375 73.4375 \nQ 25.25 74.21875 29.59375 74.21875 \nQ 40.828125 74.21875 47.359375 69.109375 \nQ 53.90625 64.015625 53.90625 55.328125 \nQ 53.90625 49.265625 50.4375 45.09375 \nQ 46.96875 40.921875 40.578125 39.3125 \nz\n\" id=\"DejaVuSans-51\"/>\n       </defs>\n       <use xlink:href=\"#DejaVuSans-51\"/>\n       <use x=\"63.623047\" xlink:href=\"#DejaVuSans-46\"/>\n       <use x=\"95.410156\" xlink:href=\"#DejaVuSans-48\"/>\n      </g>\n     </g>\n    </g>\n    <g id=\"ytick_8\">\n     <g id=\"line2d_17\">\n      <g>\n       <use style=\"stroke:#000000;stroke-width:0.8;\" x=\"43.78125\" xlink:href=\"#ma0e1aa5c33\" y=\"17.268224\"/>\n      </g>\n     </g>\n     <g id=\"text_18\">\n      <!-- 3.5 -->\n      <g transform=\"translate(20.878125 21.067443)scale(0.1 -0.1)\">\n       <use xlink:href=\"#DejaVuSans-51\"/>\n       <use x=\"63.623047\" xlink:href=\"#DejaVuSans-46\"/>\n       <use x=\"95.410156\" xlink:href=\"#DejaVuSans-53\"/>\n      </g>\n     </g>\n    </g>\n    <g id=\"text_19\">\n     <!-- NLL -->\n     <g transform=\"translate(14.798438 125.2325)rotate(-90)scale(0.1 -0.1)\">\n      <defs>\n       <path d=\"M 9.8125 72.90625 \nL 23.09375 72.90625 \nL 55.421875 11.921875 \nL 55.421875 72.90625 \nL 64.984375 72.90625 \nL 64.984375 0 \nL 51.703125 0 \nL 19.390625 60.984375 \nL 19.390625 0 \nL 9.8125 0 \nz\n\" id=\"DejaVuSans-78\"/>\n       <path d=\"M 9.8125 72.90625 \nL 19.671875 72.90625 \nL 19.671875 8.296875 \nL 55.171875 8.296875 \nL 55.171875 0 \nL 9.8125 0 \nz\n\" id=\"DejaVuSans-76\"/>\n      </defs>\n      <use xlink:href=\"#DejaVuSans-78\"/>\n      <use x=\"74.804688\" xlink:href=\"#DejaVuSans-76\"/>\n      <use x=\"130.517578\" xlink:href=\"#DejaVuSans-76\"/>\n     </g>\n    </g>\n   </g>\n   <g id=\"line2d_18\">\n    <path clip-path=\"url(#pb6ccf757d5)\" d=\"M 58.999432 177.622291 \nL 60.560271 191.033002 \nL 62.12111 185.815631 \nL 63.681949 209.301674 \nL 65.242788 187.327867 \nL 66.803628 209.446423 \nL 68.364467 187.34626 \nL 69.925306 202.570806 \nL 71.486145 190.492481 \nL 73.046984 186.837435 \nL 74.607823 200.506257 \nL 76.168663 190.674203 \nL 77.729502 186.092059 \nL 79.290341 198.087172 \nL 80.85118 192.599256 \nL 82.412019 201.185667 \nL 83.972858 184.476261 \nL 85.533698 196.020232 \nL 87.094537 184.530454 \nL 88.655376 165.991252 \nL 90.216215 190.686128 \nL 91.777054 185.522179 \nL 93.337893 191.047421 \nL 94.898733 190.913378 \nL 96.459572 195.281701 \nL 98.020411 185.905766 \nL 99.58125 188.100541 \nL 101.142089 201.088279 \nL 102.702928 205.590234 \nL 104.263767 210.97181 \nL 105.824607 213.874212 \nL 107.385446 211.324437 \nL 108.946285 204.757212 \nL 110.507124 213.948519 \nL 112.067963 214.404023 \nL 116.750481 214.713503 \nL 118.31132 214.75636 \nL 121.432998 176.908262 \nL 122.993837 203.568265 \nL 124.554677 200.814525 \nL 126.115516 184.852209 \nL 127.676355 208.628206 \nL 129.237194 194.489967 \nL 130.798033 193.511077 \nL 132.358872 176.762205 \nL 133.919712 199.606157 \nL 135.480551 203.504999 \nL 137.04139 182.405118 \nL 138.602229 201.080902 \nL 140.163068 203.939261 \nL 141.723907 179.836345 \nL 143.284747 193.366378 \nL 144.845586 199.369831 \nL 146.406425 192.27065 \nL 147.967264 195.503015 \nL 149.528103 194.542438 \nL 151.088942 183.334581 \nL 152.649781 178.224977 \nL 154.210621 185.984373 \nL 155.77146 196.448776 \nL 157.332299 190.968693 \nL 158.893138 177.762817 \nL 160.453977 205.715195 \nL 162.014816 200.319743 \nL 163.575656 204.786678 \nL 165.136495 206.032306 \nL 166.697334 211.179913 \nL 168.258173 211.849664 \nL 169.819012 204.115975 \nL 171.379851 213.664805 \nL 172.940691 214.612897 \nL 174.50153 214.676688 \nL 176.062369 214.603116 \nL 177.623208 214.756364 \nL 179.184047 214.72642 \nL 180.744886 188.656702 \nL 182.305726 185.997882 \nL 183.866565 198.796409 \nL 185.427404 196.53979 \nL 186.988243 185.473809 \nL 188.549082 180.648185 \nL 190.109921 177.417786 \nL 191.67076 199.394205 \nL 193.2316 194.325189 \nL 194.792439 198.084185 \nL 196.353278 194.587476 \nL 197.914117 196.538283 \nL 199.474956 191.943021 \nL 201.035795 194.927813 \nL 202.596635 191.909365 \nL 204.157474 200.025081 \nL 205.718313 201.348081 \nL 207.279152 203.751094 \nL 208.839991 194.462855 \nL 210.40083 197.387866 \nL 211.96167 195.692958 \nL 213.522509 183.592841 \nL 215.083348 193.311674 \nL 216.644187 185.108505 \nL 218.205026 200.011155 \nL 219.765865 189.594062 \nL 221.326705 188.832442 \nL 222.887544 192.069697 \nL 224.448383 208.054912 \nL 226.009222 207.796477 \nL 227.570061 179.429963 \nL 229.1309 213.134383 \nL 230.69174 214.213786 \nL 232.252579 213.028707 \nL 233.813418 214.522735 \nL 238.495935 214.535441 \nL 240.056774 214.709374 \nL 241.617614 17.083636 \nL 243.178453 200.75288 \nL 244.739292 202.561671 \nL 246.300131 196.161202 \nL 247.86097 169.347333 \nL 249.421809 193.624368 \nL 250.982649 209.375486 \nL 252.543488 206.6999 \nL 254.104327 200.785671 \nL 255.665166 196.465778 \nL 257.226005 201.324662 \nL 258.786844 199.635645 \nL 260.347684 196.711529 \nL 261.908523 195.483789 \nL 263.469362 205.727822 \nL 265.030201 199.2142 \nL 266.59104 197.569396 \nL 268.151879 194.041 \nL 269.712719 192.197502 \nL 271.273558 188.710659 \nL 272.834397 197.914184 \nL 274.395236 196.444267 \nL 275.956075 179.878308 \nL 277.516914 195.317584 \nL 279.077753 198.038001 \nL 280.638593 163.026016 \nL 282.199432 196.205891 \nL 283.760271 205.144667 \nL 285.32111 192.306162 \nL 286.881949 212.829537 \nL 288.442788 195.76924 \nL 290.003628 212.399671 \nL 291.564467 210.466473 \nL 293.125306 214.154841 \nL 294.686145 214.254151 \nL 296.246984 214.539912 \nL 302.490341 214.746663 \nL 304.05118 183.546876 \nL 305.612019 190.159072 \nL 307.172858 202.736368 \nL 308.733698 180.25632 \nL 310.294537 191.178627 \nL 311.855376 192.764363 \nL 313.416215 182.432563 \nL 314.977054 199.260461 \nL 316.537893 199.83523 \nL 318.098733 195.838108 \nL 319.659572 204.26333 \nL 321.220411 197.217986 \nL 322.78125 204.911763 \nL 324.342089 202.180666 \nL 325.902928 183.084504 \nL 327.463767 206.531841 \nL 329.024607 198.452194 \nL 330.585446 196.713739 \nL 332.146285 201.305712 \nL 333.707124 201.565869 \nL 335.267963 198.041296 \nL 336.828802 195.693017 \nL 338.389642 195.74707 \nL 339.950481 205.845989 \nL 341.51132 192.272076 \nL 343.072159 206.386982 \nL 344.632998 187.172345 \nL 346.193837 203.668567 \nL 347.754677 202.183183 \nL 349.315516 208.092369 \nL 350.876355 205.931461 \nL 352.437194 212.256078 \nL 353.998033 214.241635 \nL 355.558872 213.740111 \nL 357.119712 214.564229 \nL 358.680551 214.406961 \nL 360.24139 208.246276 \nL 361.802229 214.685385 \nL 363.363068 214.719211 \nL 363.363068 214.719211 \n\" style=\"fill:none;stroke:#ff0000;stroke-linecap:square;stroke-width:1.5;\"/>\n   </g>\n   <g id=\"line2d_19\">\n    <path clip-path=\"url(#pb6ccf757d5)\" d=\"M 58.999432 175.349869 \nL 60.560271 148.51302 \nL 62.12111 166.082533 \nL 63.681949 145.51673 \nL 65.242788 159.742107 \nL 66.803628 146.463176 \nL 68.364467 164.502135 \nL 69.925306 151.874725 \nL 71.486145 168.385824 \nL 73.046984 171.217994 \nL 74.607823 158.584297 \nL 76.168663 167.979795 \nL 77.729502 168.033339 \nL 79.290341 164.158836 \nL 80.85118 169.641999 \nL 82.412019 169.280896 \nL 83.972858 179.616858 \nL 85.533698 173.414967 \nL 87.094537 180.769784 \nL 88.655376 178.334625 \nL 90.216215 181.036786 \nL 91.777054 180.667136 \nL 93.337893 181.281915 \nL 94.898733 177.155671 \nL 96.459572 180.908955 \nL 98.020411 178.417187 \nL 99.58125 180.010539 \nL 101.142089 159.879879 \nL 102.702928 148.232001 \nL 104.263767 146.497702 \nL 105.824607 141.060965 \nL 107.385446 140.963101 \nL 108.946285 125.119339 \nL 110.507124 112.619677 \nL 112.067963 94.945851 \nL 113.628802 74.602858 \nL 115.189642 66.37769 \nL 116.750481 57.424476 \nL 118.31132 50.722473 \nL 119.872159 153.245519 \nL 121.432998 161.850318 \nL 122.993837 150.663298 \nL 126.115516 168.64401 \nL 127.676355 161.727162 \nL 129.237194 158.373577 \nL 132.358872 175.511614 \nL 135.480551 162.945858 \nL 137.04139 177.806913 \nL 138.602229 169.536882 \nL 140.163068 166.130628 \nL 141.723907 174.109039 \nL 143.284747 172.856951 \nL 144.845586 181.065863 \nL 146.406425 179.324264 \nL 147.967264 182.903872 \nL 149.528103 177.796626 \nL 151.088942 183.337501 \nL 152.649781 183.37657 \nL 154.210621 183.627784 \nL 155.77146 183.40092 \nL 157.332299 178.010687 \nL 158.893138 175.301145 \nL 160.453977 170.325808 \nL 162.014816 167.33891 \nL 163.575656 170.329767 \nL 165.136495 171.223662 \nL 166.697334 149.015043 \nL 168.258173 144.012611 \nL 169.819012 128.639853 \nL 171.379851 131.155149 \nL 172.940691 97.960117 \nL 174.50153 87.139373 \nL 176.062369 69.970504 \nL 177.623208 64.78078 \nL 179.184047 57.46951 \nL 180.744886 168.728591 \nL 182.305726 167.305034 \nL 183.866565 162.86931 \nL 185.427404 170.308983 \nL 186.988243 164.646691 \nL 188.549082 177.397039 \nL 190.109921 173.728655 \nL 191.67076 173.295205 \nL 193.2316 162.627774 \nL 194.792439 177.337813 \nL 196.353278 172.247992 \nL 197.914117 177.591257 \nL 199.474956 174.040513 \nL 201.035795 166.839547 \nL 202.596635 180.78861 \nL 204.157474 179.376641 \nL 205.718313 183.932198 \nL 207.279152 169.933284 \nL 208.839991 181.426081 \nL 210.40083 177.444521 \nL 211.96167 184.162755 \nL 213.522509 184.589737 \nL 215.083348 185.385434 \nL 216.644187 185.265234 \nL 218.205026 181.484475 \nL 219.765865 181.378474 \nL 221.326705 182.112544 \nL 222.887544 170.693824 \nL 224.448383 170.498088 \nL 226.009222 166.811026 \nL 227.570061 156.660298 \nL 229.1309 136.894211 \nL 230.69174 132.63248 \nL 232.252579 138.251752 \nL 233.813418 110.581277 \nL 235.374257 97.286402 \nL 236.935096 78.966545 \nL 238.495935 71.490076 \nL 240.056774 63.2264 \nL 241.617614 129.625184 \nL 243.178453 163.053999 \nL 244.739292 165.807168 \nL 246.300131 164.464626 \nL 247.86097 165.791594 \nL 249.421809 170.576325 \nL 250.982649 161.776323 \nL 252.543488 173.47903 \nL 254.104327 160.526253 \nL 255.665166 177.7882 \nL 257.226005 174.596057 \nL 258.786844 174.603017 \nL 260.347684 169.105857 \nL 261.908523 179.986051 \nL 263.469362 167.331072 \nL 265.030201 185.072967 \nL 266.59104 179.357064 \nL 268.151879 181.731753 \nL 269.712719 186.916367 \nL 271.273558 182.703572 \nL 272.834397 186.651271 \nL 274.395236 186.277337 \nL 275.956075 186.618444 \nL 277.516914 185.928074 \nL 279.077753 183.180996 \nL 280.638593 186.285824 \nL 282.199432 182.045384 \nL 283.760271 171.417773 \nL 285.32111 172.560089 \nL 286.881949 158.403854 \nL 288.442788 161.027405 \nL 290.003628 148.904733 \nL 291.564467 153.401348 \nL 294.686145 124.741296 \nL 296.246984 107.751007 \nL 297.807823 89.123799 \nL 299.368663 78.117324 \nL 300.929502 69.07037 \nL 302.490341 62.898517 \nL 304.05118 171.917031 \nL 305.612019 175.092739 \nL 307.172858 173.935844 \nL 308.733698 167.217907 \nL 310.294537 180.614497 \nL 311.855376 180.891056 \nL 313.416215 179.760099 \nL 314.977054 172.87307 \nL 316.537893 165.143703 \nL 318.098733 180.292208 \nL 319.659572 176.083038 \nL 321.220411 181.485797 \nL 322.78125 178.776286 \nL 324.342089 178.900787 \nL 325.902928 186.489898 \nL 327.463767 183.526855 \nL 329.024607 187.987262 \nL 332.146285 186.471966 \nL 333.707124 187.88303 \nL 335.267963 187.064591 \nL 336.828802 187.593285 \nL 338.389642 185.925309 \nL 339.950481 187.715757 \nL 341.51132 185.189799 \nL 343.072159 184.40636 \nL 344.632998 182.375834 \nL 346.193837 175.348053 \nL 347.754677 176.080956 \nL 349.315516 175.392006 \nL 350.876355 162.223854 \nL 352.437194 153.230302 \nL 353.998033 140.073676 \nL 355.558872 137.062775 \nL 357.119712 111.693837 \nL 358.680551 98.910115 \nL 360.24139 85.205269 \nL 361.802229 74.855179 \nL 363.363068 67.836648 \nL 363.363068 67.836648 \n\" style=\"fill:none;stroke:#0000ff;stroke-linecap:square;stroke-width:1.5;\"/>\n   </g>\n   <g id=\"patch_3\">\n    <path d=\"M 43.78125 224.64 \nL 43.78125 7.2 \n\" style=\"fill:none;stroke:#000000;stroke-linecap:square;stroke-linejoin:miter;stroke-width:0.8;\"/>\n   </g>\n   <g id=\"patch_4\">\n    <path d=\"M 378.58125 224.64 \nL 378.58125 7.2 \n\" style=\"fill:none;stroke:#000000;stroke-linecap:square;stroke-linejoin:miter;stroke-width:0.8;\"/>\n   </g>\n   <g id=\"patch_5\">\n    <path d=\"M 43.78125 224.64 \nL 378.58125 224.64 \n\" style=\"fill:none;stroke:#000000;stroke-linecap:square;stroke-linejoin:miter;stroke-width:0.8;\"/>\n   </g>\n   <g id=\"patch_6\">\n    <path d=\"M 43.78125 7.2 \nL 378.58125 7.2 \n\" style=\"fill:none;stroke:#000000;stroke-linecap:square;stroke-linejoin:miter;stroke-width:0.8;\"/>\n   </g>\n   <g id=\"legend_1\">\n    <g id=\"patch_7\">\n     <path d=\"M 50.78125 44.55625 \nL 181.334375 44.55625 \nQ 183.334375 44.55625 183.334375 42.55625 \nL 183.334375 14.2 \nQ 183.334375 12.2 181.334375 12.2 \nL 50.78125 12.2 \nQ 48.78125 12.2 48.78125 14.2 \nL 48.78125 42.55625 \nQ 48.78125 44.55625 50.78125 44.55625 \nz\n\" style=\"fill:#ffffff;opacity:0.8;stroke:#cccccc;stroke-linejoin:miter;\"/>\n    </g>\n    <g id=\"line2d_20\">\n     <path d=\"M 52.78125 20.298438 \nL 72.78125 20.298438 \n\" style=\"fill:none;stroke:#ff0000;stroke-linecap:square;stroke-width:1.5;\"/>\n    </g>\n    <g id=\"line2d_21\"/>\n    <g id=\"text_20\">\n     <!-- Training Loss -->\n     <g transform=\"translate(80.78125 23.798438)scale(0.1 -0.1)\">\n      <defs>\n       <path d=\"M -0.296875 72.90625 \nL 61.375 72.90625 \nL 61.375 64.59375 \nL 35.5 64.59375 \nL 35.5 0 \nL 25.59375 0 \nL 25.59375 64.59375 \nL -0.296875 64.59375 \nz\n\" id=\"DejaVuSans-84\"/>\n       <path d=\"M 41.109375 46.296875 \nQ 39.59375 47.171875 37.8125 47.578125 \nQ 36.03125 48 33.890625 48 \nQ 26.265625 48 22.1875 43.046875 \nQ 18.109375 38.09375 18.109375 28.8125 \nL 18.109375 0 \nL 9.078125 0 \nL 9.078125 54.6875 \nL 18.109375 54.6875 \nL 18.109375 46.1875 \nQ 20.953125 51.171875 25.484375 53.578125 \nQ 30.03125 56 36.53125 56 \nQ 37.453125 56 38.578125 55.875 \nQ 39.703125 55.765625 41.0625 55.515625 \nz\n\" id=\"DejaVuSans-114\"/>\n       <path d=\"M 34.28125 27.484375 \nQ 23.390625 27.484375 19.1875 25 \nQ 14.984375 22.515625 14.984375 16.5 \nQ 14.984375 11.71875 18.140625 8.90625 \nQ 21.296875 6.109375 26.703125 6.109375 \nQ 34.1875 6.109375 38.703125 11.40625 \nQ 43.21875 16.703125 43.21875 25.484375 \nL 43.21875 27.484375 \nz\nM 52.203125 31.203125 \nL 52.203125 0 \nL 43.21875 0 \nL 43.21875 8.296875 \nQ 40.140625 3.328125 35.546875 0.953125 \nQ 30.953125 -1.421875 24.3125 -1.421875 \nQ 15.921875 -1.421875 10.953125 3.296875 \nQ 6 8.015625 6 15.921875 \nQ 6 25.140625 12.171875 29.828125 \nQ 18.359375 34.515625 30.609375 34.515625 \nL 43.21875 34.515625 \nL 43.21875 35.40625 \nQ 43.21875 41.609375 39.140625 45 \nQ 35.0625 48.390625 27.6875 48.390625 \nQ 23 48.390625 18.546875 47.265625 \nQ 14.109375 46.140625 10.015625 43.890625 \nL 10.015625 52.203125 \nQ 14.9375 54.109375 19.578125 55.046875 \nQ 24.21875 56 28.609375 56 \nQ 40.484375 56 46.34375 49.84375 \nQ 52.203125 43.703125 52.203125 31.203125 \nz\n\" id=\"DejaVuSans-97\"/>\n       <path d=\"M 9.421875 54.6875 \nL 18.40625 54.6875 \nL 18.40625 0 \nL 9.421875 0 \nz\nM 9.421875 75.984375 \nL 18.40625 75.984375 \nL 18.40625 64.59375 \nL 9.421875 64.59375 \nz\n\" id=\"DejaVuSans-105\"/>\n       <path d=\"M 54.890625 33.015625 \nL 54.890625 0 \nL 45.90625 0 \nL 45.90625 32.71875 \nQ 45.90625 40.484375 42.875 44.328125 \nQ 39.84375 48.1875 33.796875 48.1875 \nQ 26.515625 48.1875 22.3125 43.546875 \nQ 18.109375 38.921875 18.109375 30.90625 \nL 18.109375 0 \nL 9.078125 0 \nL 9.078125 54.6875 \nL 18.109375 54.6875 \nL 18.109375 46.1875 \nQ 21.34375 51.125 25.703125 53.5625 \nQ 30.078125 56 35.796875 56 \nQ 45.21875 56 50.046875 50.171875 \nQ 54.890625 44.34375 54.890625 33.015625 \nz\n\" id=\"DejaVuSans-110\"/>\n       <path d=\"M 45.40625 27.984375 \nQ 45.40625 37.75 41.375 43.109375 \nQ 37.359375 48.484375 30.078125 48.484375 \nQ 22.859375 48.484375 18.828125 43.109375 \nQ 14.796875 37.75 14.796875 27.984375 \nQ 14.796875 18.265625 18.828125 12.890625 \nQ 22.859375 7.515625 30.078125 7.515625 \nQ 37.359375 7.515625 41.375 12.890625 \nQ 45.40625 18.265625 45.40625 27.984375 \nz\nM 54.390625 6.78125 \nQ 54.390625 -7.171875 48.1875 -13.984375 \nQ 42 -20.796875 29.203125 -20.796875 \nQ 24.46875 -20.796875 20.265625 -20.09375 \nQ 16.0625 -19.390625 12.109375 -17.921875 \nL 12.109375 -9.1875 \nQ 16.0625 -11.328125 19.921875 -12.34375 \nQ 23.78125 -13.375 27.78125 -13.375 \nQ 36.625 -13.375 41.015625 -8.765625 \nQ 45.40625 -4.15625 45.40625 5.171875 \nL 45.40625 9.625 \nQ 42.625 4.78125 38.28125 2.390625 \nQ 33.9375 0 27.875 0 \nQ 17.828125 0 11.671875 7.65625 \nQ 5.515625 15.328125 5.515625 27.984375 \nQ 5.515625 40.671875 11.671875 48.328125 \nQ 17.828125 56 27.875 56 \nQ 33.9375 56 38.28125 53.609375 \nQ 42.625 51.21875 45.40625 46.390625 \nL 45.40625 54.6875 \nL 54.390625 54.6875 \nz\n\" id=\"DejaVuSans-103\"/>\n       <path id=\"DejaVuSans-32\"/>\n       <path d=\"M 30.609375 48.390625 \nQ 23.390625 48.390625 19.1875 42.75 \nQ 14.984375 37.109375 14.984375 27.296875 \nQ 14.984375 17.484375 19.15625 11.84375 \nQ 23.34375 6.203125 30.609375 6.203125 \nQ 37.796875 6.203125 41.984375 11.859375 \nQ 46.1875 17.53125 46.1875 27.296875 \nQ 46.1875 37.015625 41.984375 42.703125 \nQ 37.796875 48.390625 30.609375 48.390625 \nz\nM 30.609375 56 \nQ 42.328125 56 49.015625 48.375 \nQ 55.71875 40.765625 55.71875 27.296875 \nQ 55.71875 13.875 49.015625 6.21875 \nQ 42.328125 -1.421875 30.609375 -1.421875 \nQ 18.84375 -1.421875 12.171875 6.21875 \nQ 5.515625 13.875 5.515625 27.296875 \nQ 5.515625 40.765625 12.171875 48.375 \nQ 18.84375 56 30.609375 56 \nz\n\" id=\"DejaVuSans-111\"/>\n      </defs>\n      <use xlink:href=\"#DejaVuSans-84\"/>\n      <use x=\"46.333984\" xlink:href=\"#DejaVuSans-114\"/>\n      <use x=\"87.447266\" xlink:href=\"#DejaVuSans-97\"/>\n      <use x=\"148.726562\" xlink:href=\"#DejaVuSans-105\"/>\n      <use x=\"176.509766\" xlink:href=\"#DejaVuSans-110\"/>\n      <use x=\"239.888672\" xlink:href=\"#DejaVuSans-105\"/>\n      <use x=\"267.671875\" xlink:href=\"#DejaVuSans-110\"/>\n      <use x=\"331.050781\" xlink:href=\"#DejaVuSans-103\"/>\n      <use x=\"394.527344\" xlink:href=\"#DejaVuSans-32\"/>\n      <use x=\"426.314453\" xlink:href=\"#DejaVuSans-76\"/>\n      <use x=\"480.277344\" xlink:href=\"#DejaVuSans-111\"/>\n      <use x=\"541.458984\" xlink:href=\"#DejaVuSans-115\"/>\n      <use x=\"593.558594\" xlink:href=\"#DejaVuSans-115\"/>\n     </g>\n    </g>\n    <g id=\"line2d_22\">\n     <path d=\"M 52.78125 34.976562 \nL 72.78125 34.976562 \n\" style=\"fill:none;stroke:#0000ff;stroke-linecap:square;stroke-width:1.5;\"/>\n    </g>\n    <g id=\"line2d_23\"/>\n    <g id=\"text_21\">\n     <!-- Develoopment Loss -->\n     <g transform=\"translate(80.78125 38.476562)scale(0.1 -0.1)\">\n      <defs>\n       <path d=\"M 19.671875 64.796875 \nL 19.671875 8.109375 \nL 31.59375 8.109375 \nQ 46.6875 8.109375 53.6875 14.9375 \nQ 60.6875 21.78125 60.6875 36.53125 \nQ 60.6875 51.171875 53.6875 57.984375 \nQ 46.6875 64.796875 31.59375 64.796875 \nz\nM 9.8125 72.90625 \nL 30.078125 72.90625 \nQ 51.265625 72.90625 61.171875 64.09375 \nQ 71.09375 55.28125 71.09375 36.53125 \nQ 71.09375 17.671875 61.125 8.828125 \nQ 51.171875 0 30.078125 0 \nL 9.8125 0 \nz\n\" id=\"DejaVuSans-68\"/>\n       <path d=\"M 2.984375 54.6875 \nL 12.5 54.6875 \nL 29.59375 8.796875 \nL 46.6875 54.6875 \nL 56.203125 54.6875 \nL 35.6875 0 \nL 23.484375 0 \nz\n\" id=\"DejaVuSans-118\"/>\n       <path d=\"M 9.421875 75.984375 \nL 18.40625 75.984375 \nL 18.40625 0 \nL 9.421875 0 \nz\n\" id=\"DejaVuSans-108\"/>\n       <path d=\"M 52 44.1875 \nQ 55.375 50.25 60.0625 53.125 \nQ 64.75 56 71.09375 56 \nQ 79.640625 56 84.28125 50.015625 \nQ 88.921875 44.046875 88.921875 33.015625 \nL 88.921875 0 \nL 79.890625 0 \nL 79.890625 32.71875 \nQ 79.890625 40.578125 77.09375 44.375 \nQ 74.3125 48.1875 68.609375 48.1875 \nQ 61.625 48.1875 57.5625 43.546875 \nQ 53.515625 38.921875 53.515625 30.90625 \nL 53.515625 0 \nL 44.484375 0 \nL 44.484375 32.71875 \nQ 44.484375 40.625 41.703125 44.40625 \nQ 38.921875 48.1875 33.109375 48.1875 \nQ 26.21875 48.1875 22.15625 43.53125 \nQ 18.109375 38.875 18.109375 30.90625 \nL 18.109375 0 \nL 9.078125 0 \nL 9.078125 54.6875 \nL 18.109375 54.6875 \nL 18.109375 46.1875 \nQ 21.1875 51.21875 25.484375 53.609375 \nQ 29.78125 56 35.6875 56 \nQ 41.65625 56 45.828125 52.96875 \nQ 50 49.953125 52 44.1875 \nz\n\" id=\"DejaVuSans-109\"/>\n      </defs>\n      <use xlink:href=\"#DejaVuSans-68\"/>\n      <use x=\"77.001953\" xlink:href=\"#DejaVuSans-101\"/>\n      <use x=\"138.525391\" xlink:href=\"#DejaVuSans-118\"/>\n      <use x=\"197.705078\" xlink:href=\"#DejaVuSans-101\"/>\n      <use x=\"259.228516\" xlink:href=\"#DejaVuSans-108\"/>\n      <use x=\"287.011719\" xlink:href=\"#DejaVuSans-111\"/>\n      <use x=\"348.193359\" xlink:href=\"#DejaVuSans-111\"/>\n      <use x=\"409.375\" xlink:href=\"#DejaVuSans-112\"/>\n      <use x=\"472.851562\" xlink:href=\"#DejaVuSans-109\"/>\n      <use x=\"570.263672\" xlink:href=\"#DejaVuSans-101\"/>\n      <use x=\"631.787109\" xlink:href=\"#DejaVuSans-110\"/>\n      <use x=\"695.166016\" xlink:href=\"#DejaVuSans-116\"/>\n      <use x=\"734.375\" xlink:href=\"#DejaVuSans-32\"/>\n      <use x=\"766.162109\" xlink:href=\"#DejaVuSans-76\"/>\n      <use x=\"820.125\" xlink:href=\"#DejaVuSans-111\"/>\n      <use x=\"881.306641\" xlink:href=\"#DejaVuSans-115\"/>\n      <use x=\"933.40625\" xlink:href=\"#DejaVuSans-115\"/>\n     </g>\n    </g>\n   </g>\n  </g>\n </g>\n <defs>\n  <clipPath id=\"pb6ccf757d5\">\n   <rect height=\"217.44\" width=\"334.8\" x=\"43.78125\" y=\"7.2\"/>\n  </clipPath>\n </defs>\n</svg>\n",
            "image/png": "[encoded data removed]"
          },
          "metadata": {
            "needs_background": "light"
          }
        }
      ]
    },
    {
      "cell_type": "code",
      "execution_count": 109,
      "metadata": {},
      "outputs": [
        {
          "output_type": "stream",
          "name": "stderr",
          "text": [
            "/Data/miniconda3/envs/ai/lib/python3.8/site-packages/torchtext/data/batch.py:23: UserWarning: Batch class will be retired soon and moved to torchtext.legacy. Please see the most recent release notes for further information.\n  warnings.warn('{} class will be retired soon and moved to torchtext.legacy. Please see the most recent release notes for further information.'.format(self.__class__.__name__), UserWarning)\n"
          ]
        },
        {
          "output_type": "execute_result",
          "data": {
            "text/plain": [
              "(tensor(2.6899, grad_fn=<DivBackward0>), tensor(0.5247))"
            ]
          },
          "metadata": {},
          "execution_count": 109
        }
      ],
      "source": [
        "eval(test_iter, model)"
      ]
    }
  ]
}