{
 "cells": [
  {
   "cell_type": "code",
   "execution_count": 1,
   "metadata": {},
   "outputs": [],
   "source": [
    "from sklearn.linear_model import LogisticRegression\n",
    "from sklearn.metrics import classification_report\n",
    "import pandas as pd\n",
    "import numpy as np\n",
    "import pickle"
   ]
  },
  {
   "cell_type": "code",
   "execution_count": 2,
   "metadata": {},
   "outputs": [],
   "source": [
    "y_train = pd.read_csv('../preprocessed_data/trn_title.csv', delimiter = ',', names=['title','label']).label\n",
    "y_test = pd.read_csv('../preprocessed_data/tst_title.csv', delimiter = ',', names=['title','label']).label"
   ]
  },
  {
   "cell_type": "markdown",
   "metadata": {},
   "source": [
    "# BoW"
   ]
  },
  {
   "cell_type": "code",
   "execution_count": 4,
   "metadata": {},
   "outputs": [],
   "source": [
    "x_train_bow = pickle.load(open(\"../preprocessed_embeddings/bow_trn.pkl\", \"rb\"))\n",
    "x_test_bow = pickle.load(open(\"../preprocessed_embeddings/bow_tst.pkl\", \"rb\"))"
   ]
  },
  {
   "cell_type": "code",
   "execution_count": 5,
   "metadata": {},
   "outputs": [
    {
     "data": {
      "text/plain": [
       "LogisticRegression(C=1, max_iter=200)"
      ]
     },
     "execution_count": 5,
     "metadata": {},
     "output_type": "execute_result"
    }
   ],
   "source": [
    "classifier_bow = LogisticRegression(fit_intercept=True, penalty=\"l2\", C=1, max_iter=200)\n",
    "classifier_bow.fit(x_train_bow, y_train)"
   ]
  },
  {
   "cell_type": "code",
   "execution_count": 7,
   "metadata": {},
   "outputs": [
    {
     "name": "stdout",
     "output_type": "stream",
     "text": [
      "Training accuracy = 0.9845091331569096\n",
      "Test accuracy = 0.9582204155374887\n"
     ]
    }
   ],
   "source": [
    "# Performance on Training and Test data\n",
    "print(\"Training accuracy = {}\".format(classifier_bow.score(x_train_bow, y_train)))\n",
    "print(\"Test accuracy = {}\".format(classifier_bow.score(x_test_bow, y_test)))"
   ]
  },
  {
   "cell_type": "code",
   "execution_count": 9,
   "metadata": {},
   "outputs": [
    {
     "name": "stdout",
     "output_type": "stream",
     "text": [
      "              precision    recall  f1-score   support\n",
      "\n",
      "           0       0.95      0.97      0.96      2286\n",
      "           1       0.97      0.95      0.96      2142\n",
      "\n",
      "    accuracy                           0.96      4428\n",
      "   macro avg       0.96      0.96      0.96      4428\n",
      "weighted avg       0.96      0.96      0.96      4428\n",
      "\n"
     ]
    }
   ],
   "source": [
    "predictions_bow = classifier_bow.predict(x_test_bow)\n",
    "print(classification_report(y_test, predictions_bow))"
   ]
  },
  {
   "cell_type": "markdown",
   "metadata": {},
   "source": [
    "# ELMo"
   ]
  },
  {
   "cell_type": "code",
   "execution_count": 2,
   "metadata": {},
   "outputs": [],
   "source": [
    "y_train = pickle.load(open(\"../preprocessed_embeddings/elmo_trn_title_labels.pkl\", \"rb\"))\n",
    "y_test = pickle.load(open(\"../preprocessed_embeddings/elmo_tst_title_labels.pkl\", \"rb\"))"
   ]
  },
  {
   "cell_type": "code",
   "execution_count": 4,
   "metadata": {},
   "outputs": [],
   "source": [
    "data = pickle.load(open(\"../preprocessed_embeddings/elmo_trn_title.pkl\", \"rb\")).tolist()\n",
    "for i in range(len(data)):\n",
    "    data[i] = data[i].mean(axis=0).tolist()\n",
    "x_train_elmo = np.array(data)"
   ]
  },
  {
   "cell_type": "code",
   "execution_count": 6,
   "metadata": {},
   "outputs": [],
   "source": [
    "data = pickle.load(open(\"../preprocessed_embeddings/elmo_tst_title.pkl\", \"rb\")).tolist()\n",
    "for i in range(len(data)):\n",
    "    data[i] = data[i].mean(axis=0).tolist()\n",
    "x_test_elmo = np.array(data)"
   ]
  },
  {
   "cell_type": "code",
   "execution_count": 8,
   "metadata": {},
   "outputs": [
    {
     "output_type": "execute_result",
     "data": {
      "text/plain": [
       "LogisticRegression(C=1, max_iter=200)"
      ]
     },
     "metadata": {},
     "execution_count": 8
    }
   ],
   "source": [
    "classifier_elmo = LogisticRegression(fit_intercept=True, penalty=\"l2\", C=1, max_iter=200)\n",
    "classifier_elmo.fit(x_train_elmo, y_train)"
   ]
  },
  {
   "cell_type": "code",
   "execution_count": 9,
   "metadata": {},
   "outputs": [
    {
     "output_type": "stream",
     "name": "stdout",
     "text": [
      "Training accuracy = 0.9999031820822307\nTest accuracy = 0.9952574525745257\n"
     ]
    }
   ],
   "source": [
    "print(\"Training accuracy = {}\".format(classifier_elmo.score(x_train_elmo, y_train)))\n",
    "print(\"Test accuracy = {}\".format(classifier_elmo.score(x_test_elmo, y_test)))"
   ]
  },
  {
   "cell_type": "code",
   "execution_count": 10,
   "metadata": {},
   "outputs": [
    {
     "output_type": "stream",
     "name": "stdout",
     "text": [
      "              precision    recall  f1-score   support\n\n           0       0.99      1.00      1.00      2286\n           1       1.00      0.99      1.00      2142\n\n    accuracy                           1.00      4428\n   macro avg       1.00      1.00      1.00      4428\nweighted avg       1.00      1.00      1.00      4428\n\n"
     ]
    }
   ],
   "source": [
    "predictions_elmo = classifier_elmo.predict(x_test_elmo)\n",
    "print(classification_report(y_test, predictions_elmo))"
   ]
  },
  {
   "cell_type": "markdown",
   "metadata": {},
   "source": [
    "# GloVe"
   ]
  },
  {
   "cell_type": "code",
   "execution_count": 9,
   "metadata": {},
   "outputs": [],
   "source": [
    "x_train_glove = pickle.load(open(\"../preprocessed_embeddings/GloVe_trn_title.pkl\", \"rb\"))\n",
    "x_test_glove = pickle.load(open(\"../preprocessed_embeddings/GloVe_tst_title.pkl\", \"rb\"))"
   ]
  },
  {
   "cell_type": "code",
   "execution_count": 10,
   "metadata": {},
   "outputs": [
    {
     "name": "stderr",
     "output_type": "stream",
     "text": [
      "C:\\Users\\dane_\\anaconda3\\lib\\site-packages\\sklearn\\linear_model\\_logistic.py:940: ConvergenceWarning: lbfgs failed to converge (status=1):\n",
      "STOP: TOTAL NO. of ITERATIONS REACHED LIMIT.\n",
      "\n",
      "Increase the number of iterations (max_iter) or scale the data as shown in:\n",
      "    https://scikit-learn.org/stable/modules/preprocessing.html\n",
      "Please also refer to the documentation for alternative solver options:\n",
      "    https://scikit-learn.org/stable/modules/linear_model.html#logistic-regression\n",
      "  extra_warning_msg=_LOGISTIC_SOLVER_CONVERGENCE_MSG)\n"
     ]
    },
    {
     "data": {
      "text/plain": [
       "LogisticRegression(C=1, class_weight=None, dual=False, fit_intercept=True,\n",
       "                   intercept_scaling=1, l1_ratio=None, max_iter=200,\n",
       "                   multi_class='auto', n_jobs=None, penalty='l2',\n",
       "                   random_state=None, solver='lbfgs', tol=0.0001, verbose=0,\n",
       "                   warm_start=False)"
      ]
     },
     "execution_count": 10,
     "metadata": {},
     "output_type": "execute_result"
    }
   ],
   "source": [
    "classifier_glove = LogisticRegression(fit_intercept=True, penalty=\"l2\", C=1, max_iter=200)\n",
    "classifier_glove.fit(x_train_glove, y_train)"
   ]
  },
  {
   "cell_type": "code",
   "execution_count": 11,
   "metadata": {},
   "outputs": [
    {
     "name": "stdout",
     "output_type": "stream",
     "text": [
      "Training accuracy = 0.9513651326405473\n",
      "Test accuracy = 0.9417344173441734\n"
     ]
    }
   ],
   "source": [
    "print(\"Training accuracy = {}\".format(classifier_glove.score(x_train_glove, y_train)))\n",
    "print(\"Test accuracy = {}\".format(classifier_glove.score(x_test_glove, y_test)))"
   ]
  },
  {
   "cell_type": "code",
   "execution_count": 12,
   "metadata": {},
   "outputs": [
    {
     "name": "stdout",
     "output_type": "stream",
     "text": [
      "              precision    recall  f1-score   support\n",
      "\n",
      "           0       0.94      0.94      0.94      2286\n",
      "           1       0.94      0.94      0.94      2142\n",
      "\n",
      "    accuracy                           0.94      4428\n",
      "   macro avg       0.94      0.94      0.94      4428\n",
      "weighted avg       0.94      0.94      0.94      4428\n",
      "\n"
     ]
    }
   ],
   "source": [
    "predictions_glove = classifier_glove.predict(x_test_elmo)\n",
    "print(classification_report(y_test, predictions_glove))"
   ]
  }
 ],
 "metadata": {
  "kernelspec": {
   "display_name": "Python 3",
   "language": "python",
   "name": "python3"
  },
  "language_info": {
   "codemirror_mode": {
    "name": "ipython",
    "version": 3
   },
   "file_extension": ".py",
   "mimetype": "text/x-python",
   "name": "python",
   "nbconvert_exporter": "python",
   "pygments_lexer": "ipython3",
   "version": "3.8.8"
  }
 },
 "nbformat": 4,
 "nbformat_minor": 2
}