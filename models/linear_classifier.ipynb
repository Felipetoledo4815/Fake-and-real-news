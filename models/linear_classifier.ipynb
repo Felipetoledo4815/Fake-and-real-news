{
 "cells": [
  {
   "cell_type": "code",
   "execution_count": 1,
   "metadata": {},
   "outputs": [],
   "source": [
    "from sklearn.linear_model import LogisticRegression\n",
    "import pandas as pd\n",
    "import pickle"
   ]
  },
  {
   "cell_type": "code",
   "execution_count": 2,
   "metadata": {},
   "outputs": [],
   "source": [
    "trn = pd.read_csv('../preprocessed_data/trn_title.csv', delimiter = ',', names=['title','label'])\n",
    "tst = pd.read_csv('../preprocessed_data/tst_title.csv', delimiter = ',', names=['title','label'])"
   ]
  },
  {
   "cell_type": "code",
   "execution_count": 3,
   "metadata": {},
   "outputs": [],
   "source": [
    "y_train = trn.label\n",
    "y_test = tst.label"
   ]
  },
  {
   "cell_type": "markdown",
   "metadata": {},
   "source": [
    "# BoW"
   ]
  },
  {
   "cell_type": "code",
   "execution_count": 30,
   "metadata": {},
   "outputs": [],
   "source": [
    "x_train_bow = pickle.load(open(\"../preprocessed_embeddings/bow_trn.pkl\", \"rb\"))\n",
    "x_test_bow = pickle.load(open(\"../preprocessed_embeddings/bow_tst.pkl\", \"rb\"))"
   ]
  },
  {
   "cell_type": "code",
   "execution_count": 32,
   "metadata": {},
   "outputs": [
    {
     "data": {
      "text/plain": [
       "LogisticRegression(C=1, max_iter=200)"
      ]
     },
     "execution_count": 32,
     "metadata": {},
     "output_type": "execute_result"
    }
   ],
   "source": [
    "classifier_bow = LogisticRegression(fit_intercept=True, penalty=\"l2\", C=1, max_iter=200)\n",
    "classifier_bow.fit(x_train_vector, y_train)"
   ]
  },
  {
   "cell_type": "code",
   "execution_count": 34,
   "metadata": {},
   "outputs": [
    {
     "name": "stdout",
     "output_type": "stream",
     "text": [
      "Training accuracy = 0.9887039806535781\n",
      "Test accuracy = 0.961487088156723\n"
     ]
    }
   ],
   "source": [
    "# Performance on Training and Test data\n",
    "print(\"Training accuracy = {}\".format(classifier_bow.score(x_train_vector, y_train)))\n",
    "print(\"Test accuracy = {}\".format(classifier_bow.score(x_test_vector, y_test)))"
   ]
  },
  {
   "cell_type": "markdown",
   "metadata": {},
   "source": [
    "# ELMo"
   ]
  },
  {
   "cell_type": "code",
   "execution_count": 40,
   "metadata": {},
   "outputs": [],
   "source": [
    "x_train_elmo = pickle.load(open(\"../preprocessed_embeddings/elmo_trn.pkl\", \"rb\"))\n",
    "x_test_elmo = pickle.load(open(\"../preprocessed_embeddings/elmo_tst.pkl\", \"rb\"))"
   ]
  },
  {
   "cell_type": "code",
   "execution_count": 41,
   "metadata": {},
   "outputs": [
    {
     "data": {
      "text/plain": [
       "LogisticRegression(C=1, max_iter=200)"
      ]
     },
     "execution_count": 41,
     "metadata": {},
     "output_type": "execute_result"
    }
   ],
   "source": [
    "classifier_elmo = LogisticRegression(fit_intercept=True, penalty=\"l2\", C=1, max_iter=200)\n",
    "classifier_elmo.fit(x_train_elmo, y_train)"
   ]
  },
  {
   "cell_type": "code",
   "execution_count": 43,
   "metadata": {},
   "outputs": [
    {
     "name": "stdout",
     "output_type": "stream",
     "text": [
      "Training accuracy = 0.9984408311324657\n",
      "Test accuracy = 0.9946571682991986\n"
     ]
    }
   ],
   "source": [
    "print(\"Training accuracy = {}\".format(classifier_elmo.score(x_train_elmo, y_train)))\n",
    "print(\"Test accuracy = {}\".format(classifier_elmo.score(x_test_elmo, y_test)))"
   ]
  },
  {
   "cell_type": "markdown",
   "metadata": {},
   "source": [
    "## GloVe"
   ]
  },
  {
   "cell_type": "code",
   "execution_count": 4,
   "metadata": {},
   "outputs": [],
   "source": [
    "x_train_glove = pickle.load(open(\"../preprocessed_embeddings/GloVe_trn_title.pkl\", \"rb\"))\n",
    "x_test_glove = pickle.load(open(\"../preprocessed_embeddings/GloVe_tst_title.pkl\", \"rb\"))"
   ]
  },
  {
   "cell_type": "code",
   "execution_count": null,
   "metadata": {},
   "outputs": [],
   "source": [
    "classifier_glove = LogisticRegression(fit_intercept=True, penalty=\"l2\", C=1, max_iter=200)\n",
    "classifier_glove.fit(x_train_glove, y_train)"
   ]
  },
  {
   "cell_type": "code",
   "execution_count": 6,
   "metadata": {},
   "outputs": [
    {
     "name": "stdout",
     "output_type": "stream",
     "text": [
      "Training accuracy = 0.9513651326405473\n",
      "Test accuracy = 0.9417344173441734\n"
     ]
    }
   ],
   "source": [
    "print(\"Training accuracy = {}\".format(classifier_glove.score(x_train_glove, y_train)))\n",
    "print(\"Test accuracy = {}\".format(classifier_glove.score(x_test_glove, y_test)))"
   ]
  }
 ],
 "metadata": {
  "kernelspec": {
   "display_name": "Python 3",
   "language": "python",
   "name": "python3"
  },
  "language_info": {
   "codemirror_mode": {
    "name": "ipython",
    "version": 3
   },
   "file_extension": ".py",
   "mimetype": "text/x-python",
   "name": "python",
   "nbconvert_exporter": "python",
   "pygments_lexer": "ipython3",
   "version": "3.7.6"
  }
 },
 "nbformat": 4,
 "nbformat_minor": 2
}
