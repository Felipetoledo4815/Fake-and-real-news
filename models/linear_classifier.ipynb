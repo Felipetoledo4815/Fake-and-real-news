{
 "metadata": {
  "language_info": {
   "codemirror_mode": {
    "name": "ipython",
    "version": 3
   },
   "file_extension": ".py",
   "mimetype": "text/x-python",
   "name": "python",
   "nbconvert_exporter": "python",
   "pygments_lexer": "ipython3",
   "version": "3.8.8"
  },
  "orig_nbformat": 2,
  "kernelspec": {
   "name": "python3",
   "display_name": "Python 3",
   "language": "python"
  }
 },
 "nbformat": 4,
 "nbformat_minor": 2,
 "cells": [
  {
   "cell_type": "code",
   "execution_count": 1,
   "metadata": {},
   "outputs": [],
   "source": [
    "from sklearn.linear_model import LogisticRegression\n",
    "from sklearn.metrics import classification_report\n",
    "import pandas as pd\n",
    "import pickle"
   ]
  },
  {
   "cell_type": "code",
   "execution_count": 2,
   "metadata": {},
   "outputs": [],
   "source": [
    "trn = pd.read_csv('../preprocessed_data/trn_title.csv', delimiter = ',', names=['title','label'])\n",
    "tst = pd.read_csv('../preprocessed_data/tst_title.csv', delimiter = ',', names=['title','label'])"
   ]
  },
  {
   "cell_type": "code",
   "execution_count": 3,
   "metadata": {},
   "outputs": [],
   "source": [
    "y_train = trn.label\n",
    "y_test = tst.label"
   ]
  },
  {
   "source": [
    "# BoW"
   ],
   "cell_type": "markdown",
   "metadata": {}
  },
  {
   "cell_type": "code",
   "execution_count": 4,
   "metadata": {},
   "outputs": [],
   "source": [
    "x_train_bow = pickle.load(open(\"../preprocessed_embeddings/bow_trn.pkl\", \"rb\"))\n",
    "x_test_bow = pickle.load(open(\"../preprocessed_embeddings/bow_tst.pkl\", \"rb\"))"
   ]
  },
  {
   "cell_type": "code",
   "execution_count": 5,
   "metadata": {},
   "outputs": [
    {
     "output_type": "execute_result",
     "data": {
      "text/plain": [
       "LogisticRegression(C=1, max_iter=200)"
      ]
     },
     "metadata": {},
     "execution_count": 5
    }
   ],
   "source": [
    "classifier_bow = LogisticRegression(fit_intercept=True, penalty=\"l2\", C=1, max_iter=200)\n",
    "classifier_bow.fit(x_train_bow, y_train)"
   ]
  },
  {
   "cell_type": "code",
   "execution_count": 7,
   "metadata": {},
   "outputs": [
    {
     "output_type": "stream",
     "name": "stdout",
     "text": [
      "Training accuracy = 0.9845091331569096\nTest accuracy = 0.9582204155374887\n"
     ]
    }
   ],
   "source": [
    "# Performance on Training and Test data\n",
    "print(\"Training accuracy = {}\".format(classifier_bow.score(x_train_bow, y_train)))\n",
    "print(\"Test accuracy = {}\".format(classifier_bow.score(x_test_bow, y_test)))"
   ]
  },
  {
   "cell_type": "code",
   "execution_count": 9,
   "metadata": {},
   "outputs": [
    {
     "output_type": "stream",
     "name": "stdout",
     "text": [
      "              precision    recall  f1-score   support\n\n           0       0.95      0.97      0.96      2286\n           1       0.97      0.95      0.96      2142\n\n    accuracy                           0.96      4428\n   macro avg       0.96      0.96      0.96      4428\nweighted avg       0.96      0.96      0.96      4428\n\n"
     ]
    }
   ],
   "source": [
    "predictions_bow = classifier_bow.predict(x_test_bow)\n",
    "print(classification_report(y_test, predictions_bow))"
   ]
  },
  {
   "source": [
    "# ELMo"
   ],
   "cell_type": "markdown",
   "metadata": {}
  },
  {
   "cell_type": "code",
   "execution_count": 10,
   "metadata": {},
   "outputs": [],
   "source": [
    "x_train_elmo = pickle.load(open(\"../preprocessed_embeddings/elmo_trn_title.pkl\", \"rb\"))\n",
    "x_test_elmo = pickle.load(open(\"../preprocessed_embeddings/elmo_tst_title.pkl\", \"rb\"))"
   ]
  },
  {
   "cell_type": "code",
   "execution_count": 11,
   "metadata": {},
   "outputs": [
    {
     "output_type": "execute_result",
     "data": {
      "text/plain": [
       "LogisticRegression(C=1, max_iter=200)"
      ]
     },
     "metadata": {},
     "execution_count": 11
    }
   ],
   "source": [
    "classifier_elmo = LogisticRegression(fit_intercept=True, penalty=\"l2\", C=1, max_iter=200)\n",
    "classifier_elmo.fit(x_train_elmo, y_train)"
   ]
  },
  {
   "cell_type": "code",
   "execution_count": 12,
   "metadata": {},
   "outputs": [
    {
     "output_type": "stream",
     "name": "stdout",
     "text": [
      "Training accuracy = 0.9983218227586652\nTest accuracy = 0.9939024390243902\n"
     ]
    }
   ],
   "source": [
    "print(\"Training accuracy = {}\".format(classifier_elmo.score(x_train_elmo, y_train)))\n",
    "print(\"Test accuracy = {}\".format(classifier_elmo.score(x_test_elmo, y_test)))"
   ]
  },
  {
   "cell_type": "code",
   "execution_count": 13,
   "metadata": {},
   "outputs": [
    {
     "output_type": "stream",
     "name": "stdout",
     "text": [
      "              precision    recall  f1-score   support\n\n           0       0.99      0.99      0.99      2286\n           1       0.99      0.99      0.99      2142\n\n    accuracy                           0.99      4428\n   macro avg       0.99      0.99      0.99      4428\nweighted avg       0.99      0.99      0.99      4428\n\n"
     ]
    }
   ],
   "source": [
    "predictions_elmo = classifier_elmo.predict(x_test_elmo)\n",
    "print(classification_report(y_test, predictions_elmo))"
   ]
  }
 ]
}