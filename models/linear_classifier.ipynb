{
 "metadata": {
  "language_info": {
   "codemirror_mode": {
    "name": "ipython",
    "version": 3
   },
   "file_extension": ".py",
   "mimetype": "text/x-python",
   "name": "python",
   "nbconvert_exporter": "python",
   "pygments_lexer": "ipython3",
   "version": "3.8.8"
  },
  "orig_nbformat": 2,
  "kernelspec": {
   "name": "python3",
   "display_name": "Python 3",
   "language": "python"
  }
 },
 "nbformat": 4,
 "nbformat_minor": 2,
 "cells": [
  {
   "cell_type": "code",
   "execution_count": 29,
   "metadata": {},
   "outputs": [],
   "source": [
    "from sklearn.linear_model import LogisticRegression\n",
    "import pandas as pd\n",
    "import pickle"
   ]
  },
  {
   "cell_type": "code",
   "execution_count": 18,
   "metadata": {},
   "outputs": [],
   "source": [
    "trn = pd.read_csv('../preprocessed_data/trn_title.csv', delimiter = ',', names=['title','label'])\n",
    "tst = pd.read_csv('../preprocessed_data/tst_title.csv', delimiter = ',', names=['title','label'])"
   ]
  },
  {
   "cell_type": "code",
   "execution_count": 31,
   "metadata": {},
   "outputs": [],
   "source": [
    "y_train = trn.label\n",
    "y_test = tst.label"
   ]
  },
  {
   "source": [
    "# BoW"
   ],
   "cell_type": "markdown",
   "metadata": {}
  },
  {
   "cell_type": "code",
   "execution_count": 30,
   "metadata": {},
   "outputs": [],
   "source": [
    "x_train_bow = pickle.load(open(\"../preprocessed_embeddings/bow_trn.pkl\", \"rb\"))\n",
    "x_test_bow = pickle.load(open(\"../preprocessed_embeddings/bow_tst.pkl\", \"rb\"))"
   ]
  },
  {
   "cell_type": "code",
   "execution_count": 32,
   "metadata": {},
   "outputs": [
    {
     "output_type": "execute_result",
     "data": {
      "text/plain": [
       "LogisticRegression(C=1, max_iter=200)"
      ]
     },
     "metadata": {},
     "execution_count": 32
    }
   ],
   "source": [
    "classifier_bow = LogisticRegression(fit_intercept=True, penalty=\"l2\", C=1, max_iter=200)\n",
    "classifier_bow.fit(x_train_vector, y_train)"
   ]
  },
  {
   "cell_type": "code",
   "execution_count": 34,
   "metadata": {},
   "outputs": [
    {
     "output_type": "stream",
     "name": "stdout",
     "text": [
      "Training accuracy = 0.9887039806535781\nTest accuracy = 0.961487088156723\n"
     ]
    }
   ],
   "source": [
    "# Performance on Training and Test data\n",
    "print(\"Training accuracy = {}\".format(classifier_bow.score(x_train_vector, y_train)))\n",
    "print(\"Test accuracy = {}\".format(classifier_bow.score(x_test_vector, y_test)))"
   ]
  },
  {
   "source": [
    "# ELMo"
   ],
   "cell_type": "markdown",
   "metadata": {}
  },
  {
   "cell_type": "code",
   "execution_count": 40,
   "metadata": {},
   "outputs": [],
   "source": [
    "x_train_elmo = pickle.load(open(\"../preprocessed_embeddings/elmo_trn.pkl\", \"rb\"))\n",
    "x_test_elmo = pickle.load(open(\"../preprocessed_embeddings/elmo_tst.pkl\", \"rb\"))"
   ]
  },
  {
   "cell_type": "code",
   "execution_count": 41,
   "metadata": {},
   "outputs": [
    {
     "output_type": "execute_result",
     "data": {
      "text/plain": [
       "LogisticRegression(C=1, max_iter=200)"
      ]
     },
     "metadata": {},
     "execution_count": 41
    }
   ],
   "source": [
    "classifier_elmo = LogisticRegression(fit_intercept=True, penalty=\"l2\", C=1, max_iter=200)\n",
    "classifier_elmo.fit(x_train_elmo, y_train)"
   ]
  },
  {
   "cell_type": "code",
   "execution_count": 43,
   "metadata": {},
   "outputs": [
    {
     "output_type": "stream",
     "name": "stdout",
     "text": [
      "Training accuracy = 0.9984408311324657\nTest accuracy = 0.9946571682991986\n"
     ]
    }
   ],
   "source": [
    "print(\"Training accuracy = {}\".format(classifier_elmo.score(x_train_elmo, y_train)))\n",
    "print(\"Test accuracy = {}\".format(classifier_elmo.score(x_test_elmo, y_test)))"
   ]
  },
  {
   "cell_type": "code",
   "execution_count": null,
   "metadata": {},
   "outputs": [],
   "source": []
  }
 ]
}