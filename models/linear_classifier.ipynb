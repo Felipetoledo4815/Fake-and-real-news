{
 "cells": [
  {
   "cell_type": "code",
   "execution_count": 5,
   "metadata": {
    "id": "88gwoVErNvVE"
   },
   "outputs": [],
   "source": [
    "from sklearn.linear_model import LogisticRegression\n",
    "from sklearn.metrics import classification_report\n",
    "import pandas as pd\n",
    "import numpy as np\n",
    "import pickle"
   ]
  },
  {
   "cell_type": "code",
   "execution_count": 6,
   "metadata": {
    "id": "Q9FWdwW1NvVM"
   },
   "outputs": [],
   "source": [
    "y_train = pd.read_csv('../preprocessed_data/trn_title.csv', delimiter = ',', names=['title','label']).label\n",
    "y_test = pd.read_csv('../preprocessed_data/tst_title.csv', delimiter = ',', names=['title','label']).label"
   ]
  },
  {
   "cell_type": "markdown",
   "metadata": {
    "id": "w3ga7KOoNvVN"
   },
   "source": [
    "# BoW"
   ]
  },
  {
   "cell_type": "code",
   "execution_count": 4,
   "metadata": {
    "id": "-WYz_6JoNvVN"
   },
   "outputs": [],
   "source": [
    "x_train_bow = pickle.load(open(\"../preprocessed_embeddings/bow_trn.pkl\", \"rb\"))\n",
    "x_test_bow = pickle.load(open(\"../preprocessed_embeddings/bow_tst.pkl\", \"rb\"))"
   ]
  },
  {
   "cell_type": "code",
   "execution_count": 5,
   "metadata": {
    "id": "TITdYZgjNvVO",
    "outputId": "b2a55776-7321-4c50-82cd-07a3d0e1fbad"
   },
   "outputs": [
    {
     "data": {
      "text/plain": [
       "LogisticRegression(C=1, max_iter=200)"
      ]
     },
     "execution_count": 5,
     "metadata": {},
     "output_type": "execute_result"
    }
   ],
   "source": [
    "classifier_bow = LogisticRegression(fit_intercept=True, penalty=\"l2\", C=1, max_iter=200)\n",
    "classifier_bow.fit(x_train_bow, y_train)"
   ]
  },
  {
   "cell_type": "code",
   "execution_count": 6,
   "metadata": {
    "id": "wQgRi93ONvVP",
    "outputId": "c23b21e3-4d9d-4c95-ec7b-c085205670ad"
   },
   "outputs": [
    {
     "name": "stdout",
     "output_type": "stream",
     "text": [
      "Training accuracy = 0.9994190924933841\n",
      "Test accuracy = 0.9934507678410117\n"
     ]
    }
   ],
   "source": [
    "# Performance on Training and Test data\n",
    "print(\"Training accuracy = {}\".format(classifier_bow.score(x_train_bow, y_train)))\n",
    "print(\"Test accuracy = {}\".format(classifier_bow.score(x_test_bow, y_test)))"
   ]
  },
  {
   "cell_type": "code",
   "execution_count": 7,
   "metadata": {
    "id": "pNRRPYtcNvVP",
    "outputId": "88a3a457-4c33-4f45-dbed-f32b18728f07"
   },
   "outputs": [
    {
     "name": "stdout",
     "output_type": "stream",
     "text": [
      "              precision    recall  f1-score   support\n",
      "\n",
      "           0       0.99      0.99      0.99      2286\n",
      "           1       0.99      0.99      0.99      2142\n",
      "\n",
      "    accuracy                           0.99      4428\n",
      "   macro avg       0.99      0.99      0.99      4428\n",
      "weighted avg       0.99      0.99      0.99      4428\n",
      "\n"
     ]
    }
   ],
   "source": [
    "predictions_bow = classifier_bow.predict(x_test_bow)\n",
    "print(classification_report(y_test, predictions_bow))"
   ]
  },
  {
   "cell_type": "markdown",
   "metadata": {
    "id": "3JSFHcecNvVQ"
   },
   "source": [
    "# ELMo"
   ]
  },
  {
   "cell_type": "code",
   "execution_count": null,
   "metadata": {
    "id": "neA1jww_NvVQ"
   },
   "outputs": [],
   "source": [
    "y_train = pickle.load(open(\"../preprocessed_embeddings/elmo_trn_title_labels.pkl\", \"rb\"))\n",
    "y_test = pickle.load(open(\"../preprocessed_embeddings/elmo_tst_title_labels.pkl\", \"rb\"))"
   ]
  },
  {
   "cell_type": "code",
   "execution_count": null,
   "metadata": {
    "id": "4VdimGsqNvVQ"
   },
   "outputs": [],
   "source": [
    "data = pickle.load(open(\"../preprocessed_embeddings/elmo_trn_title.pkl\", \"rb\")).tolist()\n",
    "for i in range(len(data)):\n",
    "    data[i] = data[i].mean(axis=0).tolist()\n",
    "x_train_elmo = np.array(data)"
   ]
  },
  {
   "cell_type": "code",
   "execution_count": null,
   "metadata": {
    "id": "eP65aCthNvVR"
   },
   "outputs": [],
   "source": [
    "data = pickle.load(open(\"../preprocessed_embeddings/elmo_tst_title.pkl\", \"rb\")).tolist()\n",
    "for i in range(len(data)):\n",
    "    data[i] = data[i].mean(axis=0).tolist()\n",
    "x_test_elmo = np.array(data)"
   ]
  },
  {
   "cell_type": "code",
   "execution_count": null,
   "metadata": {
    "id": "wMKedZ6DNvVR",
    "outputId": "7d3e7f88-f7ba-48ac-82dd-024334dbcae5"
   },
   "outputs": [
    {
     "data": {
      "text/plain": [
       "LogisticRegression(C=1, max_iter=200)"
      ]
     },
     "execution_count": 8,
     "metadata": {
      "tags": []
     },
     "output_type": "execute_result"
    }
   ],
   "source": [
    "classifier_elmo = LogisticRegression(fit_intercept=True, penalty=\"l2\", C=1, max_iter=200)\n",
    "classifier_elmo.fit(x_train_elmo, y_train)"
   ]
  },
  {
   "cell_type": "code",
   "execution_count": null,
   "metadata": {
    "id": "DRSxEOPUNvVR",
    "outputId": "c81af9d6-5aee-4f53-ee55-09ab5a6048e6"
   },
   "outputs": [
    {
     "name": "stdout",
     "output_type": "stream",
     "text": [
      "Training accuracy = 0.9999031820822307\n",
      "Test accuracy = 0.9952574525745257\n"
     ]
    }
   ],
   "source": [
    "print(\"Training accuracy = {}\".format(classifier_elmo.score(x_train_elmo, y_train)))\n",
    "print(\"Test accuracy = {}\".format(classifier_elmo.score(x_test_elmo, y_test)))"
   ]
  },
  {
   "cell_type": "code",
   "execution_count": null,
   "metadata": {
    "id": "urHh4ubfNvVS",
    "outputId": "43df1632-45e2-4716-f56e-d779bfecb2fa"
   },
   "outputs": [
    {
     "name": "stdout",
     "output_type": "stream",
     "text": [
      "              precision    recall  f1-score   support\n",
      "\n",
      "           0       0.99      1.00      1.00      2286\n",
      "           1       1.00      0.99      1.00      2142\n",
      "\n",
      "    accuracy                           1.00      4428\n",
      "   macro avg       1.00      1.00      1.00      4428\n",
      "weighted avg       1.00      1.00      1.00      4428\n",
      "\n"
     ]
    }
   ],
   "source": [
    "predictions_elmo = classifier_elmo.predict(x_test_elmo)\n",
    "print(classification_report(y_test, predictions_elmo))"
   ]
  },
  {
   "cell_type": "markdown",
   "metadata": {
    "id": "MCXVqGNgNvVS"
   },
   "source": [
    "# GloVe"
   ]
  },
  {
   "cell_type": "code",
   "execution_count": 7,
   "metadata": {
    "id": "e29iXgmUNvVS"
   },
   "outputs": [],
   "source": [
    "x_train_glove = pickle.load(open(\"../preprocessed_embeddings/GloVe_trn_title.pkl\", \"rb\"))\n",
    "x_test_glove = pickle.load(open(\"../preprocessed_embeddings/GloVe_tst_title.pkl\", \"rb\"))"
   ]
  },
  {
   "cell_type": "code",
   "execution_count": 8,
   "metadata": {
    "id": "3SM3rO2rNvVT",
    "outputId": "ca9a9320-d389-4454-f15c-16cf12140ff2"
   },
   "outputs": [
    {
     "name": "stderr",
     "output_type": "stream",
     "text": [
      "c:\\users\\dane_\\anaconda3\\envs\\pytorch_env\\lib\\site-packages\\sklearn\\linear_model\\_logistic.py:763: ConvergenceWarning: lbfgs failed to converge (status=1):\n",
      "STOP: TOTAL NO. of ITERATIONS REACHED LIMIT.\n",
      "\n",
      "Increase the number of iterations (max_iter) or scale the data as shown in:\n",
      "    https://scikit-learn.org/stable/modules/preprocessing.html\n",
      "Please also refer to the documentation for alternative solver options:\n",
      "    https://scikit-learn.org/stable/modules/linear_model.html#logistic-regression\n",
      "  n_iter_i = _check_optimize_result(\n"
     ]
    },
    {
     "data": {
      "text/plain": [
       "LogisticRegression(C=1, max_iter=200)"
      ]
     },
     "execution_count": 8,
     "metadata": {},
     "output_type": "execute_result"
    }
   ],
   "source": [
    "classifier_glove = LogisticRegression(fit_intercept=True, penalty=\"l2\", C=1, max_iter=200)\n",
    "classifier_glove.fit(x_train_glove, y_train)"
   ]
  },
  {
   "cell_type": "code",
   "execution_count": 9,
   "metadata": {
    "id": "VGeWQFXGNvVT",
    "outputId": "707168d1-77ec-44b0-9cff-84b4a299f381"
   },
   "outputs": [
    {
     "name": "stdout",
     "output_type": "stream",
     "text": [
      "Training accuracy = 0.9998709094429743\n",
      "Test accuracy = 0.9925474254742548\n"
     ]
    }
   ],
   "source": [
    "print(\"Training accuracy = {}\".format(classifier_glove.score(x_train_glove, y_train)))\n",
    "print(\"Test accuracy = {}\".format(classifier_glove.score(x_test_glove, y_test)))"
   ]
  },
  {
   "cell_type": "code",
   "execution_count": 11,
   "metadata": {
    "id": "MimrX5S9NvVT",
    "outputId": "dde5236a-4c30-4fd7-a3de-456be5af1e57"
   },
   "outputs": [
    {
     "name": "stdout",
     "output_type": "stream",
     "text": [
      "              precision    recall  f1-score   support\n",
      "\n",
      "           0       0.99      0.99      0.99      2286\n",
      "           1       0.99      0.99      0.99      2142\n",
      "\n",
      "    accuracy                           0.99      4428\n",
      "   macro avg       0.99      0.99      0.99      4428\n",
      "weighted avg       0.99      0.99      0.99      4428\n",
      "\n"
     ]
    }
   ],
   "source": [
    "predictions_glove = classifier_glove.predict(x_test_glove)\n",
    "print(classification_report(y_test, predictions_glove))"
   ]
  },
  {
   "cell_type": "markdown",
   "metadata": {
    "id": "fUoLjAxmN2SN"
   },
   "source": [
    "# Skipgram"
   ]
  },
  {
   "cell_type": "code",
   "execution_count": null,
   "metadata": {
    "id": "TTkRf7oYOxK5"
   },
   "outputs": [],
   "source": [
    "!pip install fasttext\n",
    "import fasttext\n",
    "import pandas as pd\n",
    "\n",
    "trn = pd.read_csv('../preprocessed_data/trn_title.csv', delimiter = ',', names=['title','label'])\n",
    "tst = pd.read_csv('../preprocessed_data/tst_title.csv', delimiter = ',', names=['title','label'])\n"
   ]
  },
  {
   "cell_type": "code",
   "execution_count": 3,
   "metadata": {
    "id": "gY28Ah29N6Ic"
   },
   "outputs": [],
   "source": [
    "model_sg = fasttext.load_model(\"model_sg.bin\")\n",
    "\n",
    "f1 = open(\"sg_train.txt\", \"r\")\n",
    "f2 = open(\"sg_test.txt\", \"r\")\n",
    "\n",
    "trn_embeddings = []\n",
    "tst_embeddings = [] \n",
    "\n",
    "for line in f1:\n",
    "    line_stripped = line.strip()  \n",
    "    trn_embeddings.append(model_sg.get_sentence_vector(line_stripped))\n",
    "\n",
    "f1.close()\n",
    "\n",
    "\n",
    "for line in f2:\n",
    "    line_stripped = line.strip()\n",
    "    tst_embeddings.append(model_sg.get_sentence_vector(line_stripped))\n",
    "\n",
    "y_train = trn.label\n",
    "y_test = tst.label\n"
   ]
  },
  {
   "cell_type": "code",
   "execution_count": 4,
   "metadata": {
    "colab": {
     "base_uri": "https://localhost:8080/"
    },
    "id": "7zTp8ZlQRH8y",
    "outputId": "ce24650d-69db-4050-dd01-a7689da7a77f"
   },
   "outputs": [
    {
     "name": "stdout",
     "output_type": "stream",
     "text": [
      "Training accuracy = 0.9949406561237153\n",
      "Test accuracy = 0.9913178984861977\n"
     ]
    }
   ],
   "source": [
    "from sklearn.linear_model import LogisticRegression\n",
    "\n",
    "\n",
    "classifier_sg = LogisticRegression(fit_intercept=True, penalty=\"l2\", C=1, max_iter=200)\n",
    "classifier_sg.fit(trn_embeddings, y_train)\n",
    "\n",
    "\n",
    "print(\"Training accuracy = {}\".format(classifier_sg.score(trn_embeddings, y_train)))\n",
    "print(\"Test accuracy = {}\".format(classifier_sg.score(tst_embeddings, y_test)))"
   ]
  },
  {
   "cell_type": "code",
   "execution_count": 6,
   "metadata": {
    "colab": {
     "base_uri": "https://localhost:8080/"
    },
    "id": "z4NSFebIb8Xp",
    "outputId": "384e07e5-6d4a-4a1e-807a-63d818b77521"
   },
   "outputs": [
    {
     "name": "stdout",
     "output_type": "stream",
     "text": [
      "              precision    recall  f1-score   support\n",
      "\n",
      "           0       0.99      1.00      0.99      2349\n",
      "           1       1.00      0.99      0.99      2143\n",
      "\n",
      "    accuracy                           0.99      4492\n",
      "   macro avg       0.99      0.99      0.99      4492\n",
      "weighted avg       0.99      0.99      0.99      4492\n",
      "\n"
     ]
    }
   ],
   "source": [
    "predictions_sg = classifier_sg.predict(tst_embeddings)\n",
    "print(classification_report(y_test, predictions_sg))"
   ]
  }
 ],
 "metadata": {
  "colab": {
   "name": "linear_classifier.ipynb",
   "provenance": [],
   "toc_visible": true
  },
  "kernelspec": {
   "display_name": "Python 3",
   "language": "python",
   "name": "python3"
  },
  "language_info": {
   "codemirror_mode": {
    "name": "ipython",
    "version": 3
   },
   "file_extension": ".py",
   "mimetype": "text/x-python",
   "name": "python",
   "nbconvert_exporter": "python",
   "pygments_lexer": "ipython3",
   "version": "3.8.5"
  }
 },
 "nbformat": 4,
 "nbformat_minor": 1
}
